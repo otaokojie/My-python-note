{
 "cells": [
  {
   "cell_type": "markdown",
   "id": "0c86758f",
   "metadata": {},
   "source": [
    "### Organizing Tabular Data in Python"
   ]
  },
  {
   "cell_type": "code",
   "execution_count": 7,
   "id": "025ce738",
   "metadata": {},
   "outputs": [
    {
     "ename": "SyntaxError",
     "evalue": "invalid syntax (Temp/ipykernel_9100/2936399474.py, line 2)",
     "output_type": "error",
     "traceback": [
      "\u001b[1;36m  File \u001b[1;32m\"C:\\Users\\pc\\AppData\\Local\\Temp/ipykernel_9100/2936399474.py\"\u001b[1;36m, line \u001b[1;32m2\u001b[0m\n\u001b[1;33m    data that is represented in a tabler form.\u001b[0m\n\u001b[1;37m         ^\u001b[0m\n\u001b[1;31mSyntaxError\u001b[0m\u001b[1;31m:\u001b[0m invalid syntax\n"
     ]
    }
   ],
   "source": [
    "what is a tabler data?\n",
    "data that is represented in a tabler form.\n",
    "Information can come in many forms, and part of a data scientist's job is making sure that information is organized in a way that's conducive to analysis. \n",
    "Take for example these five houses from the Mexico real estate dataset \n",
    "\n",
    "Five houses showing price, number of rooms, and area in square meters for each\n",
    "\n",
    "One common way to organize this information is in a table, which is a group of cells organized into rows and columns:\n",
    "\n",
    "\n",
    "When working with this sort of tabular data, it's important to organize row and columns following the principles of \"tidy data.\" What does that mean in the case of our dataset?\n",
    "\n",
    "Each row corresponds to a single house in our dataset. We'll call each of these houses an observation.\n",
    "Each column corresponds to a characteristic of each house. We'll call these features.\n",
    "Each cell contains only one value."
   ]
  },
  {
   "cell_type": "markdown",
   "id": "07967a8c",
   "metadata": {},
   "source": [
    "### Tabular Data and Python Data Structures"
   ]
  },
  {
   "cell_type": "markdown",
   "id": "771b34b7",
   "metadata": {},
   "source": [
    "## Working with Lists"
   ]
  },
  {
   "cell_type": "code",
   "execution_count": null,
   "id": "c6f16f0e",
   "metadata": {},
   "outputs": [],
   "source": [
    "Python comes with several data structures that we can use to organize tabular data. \n",
    "\n",
    "Let's start by putting a single observation in a list."
   ]
  },
  {
   "cell_type": "code",
   "execution_count": null,
   "id": "53474b9a",
   "metadata": {},
   "outputs": [],
   "source": [
    "house_0_list = [115910.26, 128, 4]\n",
    "house_0_list"
   ]
  },
  {
   "cell_type": "markdown",
   "id": "328acc71",
   "metadata": {},
   "source": [
    "### Task 1.1.1:"
   ]
  },
  {
   "cell_type": "code",
   "execution_count": null,
   "id": "f648016f",
   "metadata": {},
   "outputs": [],
   "source": [
    "## insert the table hear ou"
   ]
  },
  {
   "cell_type": "code",
   "execution_count": 1,
   "id": "4a7053c0",
   "metadata": {},
   "outputs": [],
   "source": [
    "import pandas as pd"
   ]
  },
  {
   "cell_type": "code",
   "execution_count": 2,
   "id": "5c9a266c",
   "metadata": {},
   "outputs": [],
   "source": [
    "df = pd.read_excel(\"US Houseing.Xlsx\") ## where you have excel is the type of file it can be csv\n",
    "## the name in the () is the exact name of hoe the file is saved."
   ]
  },
  {
   "cell_type": "code",
   "execution_count": 3,
   "id": "d785f8cf",
   "metadata": {},
   "outputs": [
    {
     "data": {
      "text/html": [
       "<div>\n",
       "<style scoped>\n",
       "    .dataframe tbody tr th:only-of-type {\n",
       "        vertical-align: middle;\n",
       "    }\n",
       "\n",
       "    .dataframe tbody tr th {\n",
       "        vertical-align: top;\n",
       "    }\n",
       "\n",
       "    .dataframe thead th {\n",
       "        text-align: right;\n",
       "    }\n",
       "</style>\n",
       "<table border=\"1\" class=\"dataframe\">\n",
       "  <thead>\n",
       "    <tr style=\"text-align: right;\">\n",
       "      <th></th>\n",
       "      <th>Unnamed: 0</th>\n",
       "      <th>Unnamed: 1</th>\n",
       "      <th>Unnamed: 2</th>\n",
       "      <th>Unnamed: 3</th>\n",
       "    </tr>\n",
       "  </thead>\n",
       "  <tbody>\n",
       "    <tr>\n",
       "      <th>0</th>\n",
       "      <td>NaN</td>\n",
       "      <td>NaN</td>\n",
       "      <td>NaN</td>\n",
       "      <td>NaN</td>\n",
       "    </tr>\n",
       "    <tr>\n",
       "      <th>1</th>\n",
       "      <td>House</td>\n",
       "      <td>Price</td>\n",
       "      <td>Rooms</td>\n",
       "      <td>Area</td>\n",
       "    </tr>\n",
       "    <tr>\n",
       "      <th>2</th>\n",
       "      <td>0</td>\n",
       "      <td>115910</td>\n",
       "      <td>4</td>\n",
       "      <td>128</td>\n",
       "    </tr>\n",
       "    <tr>\n",
       "      <th>3</th>\n",
       "      <td>1</td>\n",
       "      <td>48718</td>\n",
       "      <td>3</td>\n",
       "      <td>210</td>\n",
       "    </tr>\n",
       "    <tr>\n",
       "      <th>4</th>\n",
       "      <td>2</td>\n",
       "      <td>28977</td>\n",
       "      <td>2</td>\n",
       "      <td>58</td>\n",
       "    </tr>\n",
       "    <tr>\n",
       "      <th>5</th>\n",
       "      <td>3</td>\n",
       "      <td>36932</td>\n",
       "      <td>3</td>\n",
       "      <td>79</td>\n",
       "    </tr>\n",
       "    <tr>\n",
       "      <th>6</th>\n",
       "      <td>4</td>\n",
       "      <td>83903</td>\n",
       "      <td>3</td>\n",
       "      <td>111</td>\n",
       "    </tr>\n",
       "  </tbody>\n",
       "</table>\n",
       "</div>"
      ],
      "text/plain": [
       "  Unnamed: 0 Unnamed: 1 Unnamed: 2 Unnamed: 3\n",
       "0        NaN        NaN        NaN        NaN\n",
       "1      House      Price      Rooms       Area\n",
       "2          0     115910          4        128\n",
       "3          1      48718          3        210\n",
       "4          2      28977          2         58\n",
       "5          3      36932          3         79\n",
       "6          4      83903          3        111"
      ]
     },
     "execution_count": 3,
     "metadata": {},
     "output_type": "execute_result"
    }
   ],
   "source": [
    "df"
   ]
  },
  {
   "cell_type": "code",
   "execution_count": 4,
   "id": "4aa563c2",
   "metadata": {},
   "outputs": [
    {
     "ename": "SyntaxError",
     "evalue": "invalid syntax (Temp/ipykernel_5396/2256124582.py, line 1)",
     "output_type": "error",
     "traceback": [
      "\u001b[1;36m  File \u001b[1;32m\"C:\\Users\\pc\\AppData\\Local\\Temp/ipykernel_5396/2256124582.py\"\u001b[1;36m, line \u001b[1;32m1\u001b[0m\n\u001b[1;33m    One metric that people in the real estate industry look at is price per square meter\u001b[0m\n\u001b[1;37m        ^\u001b[0m\n\u001b[1;31mSyntaxError\u001b[0m\u001b[1;31m:\u001b[0m invalid syntax\n"
     ]
    }
   ],
   "source": [
    "One metric that people in the real estate industry look at is price per square meter\n",
    "because it allows them to compare houses of different sizes. \n",
    "\n",
    "Can you use the information in this list to calculate the price per square meter for house_0?"
   ]
  },
  {
   "cell_type": "code",
   "execution_count": 5,
   "id": "98ae5662",
   "metadata": {},
   "outputs": [
    {
     "ename": "NameError",
     "evalue": "name 'house_0_list' is not defined",
     "output_type": "error",
     "traceback": [
      "\u001b[1;31m---------------------------------------------------------------------------\u001b[0m",
      "\u001b[1;31mNameError\u001b[0m                                 Traceback (most recent call last)",
      "\u001b[1;32m~\\AppData\\Local\\Temp/ipykernel_5396/1169948125.py\u001b[0m in \u001b[0;36m<module>\u001b[1;34m\u001b[0m\n\u001b[1;32m----> 1\u001b[1;33m \u001b[0mhouse_0_list\u001b[0m\u001b[1;33m[\u001b[0m\u001b[1;36m0\u001b[0m\u001b[1;33m]\u001b[0m \u001b[1;31m### house_0_list is refering to the table\u001b[0m\u001b[1;33m\u001b[0m\u001b[1;33m\u001b[0m\u001b[0m\n\u001b[0m",
      "\u001b[1;31mNameError\u001b[0m: name 'house_0_list' is not defined"
     ]
    }
   ],
   "source": [
    "house_0_list[0] ### house_0_list is refering to the table"
   ]
  },
  {
   "cell_type": "code",
   "execution_count": 8,
   "id": "db5af105",
   "metadata": {},
   "outputs": [
    {
     "ename": "NameError",
     "evalue": "name 'house_0_list' is not defined",
     "output_type": "error",
     "traceback": [
      "\u001b[1;31m---------------------------------------------------------------------------\u001b[0m",
      "\u001b[1;31mNameError\u001b[0m                                 Traceback (most recent call last)",
      "\u001b[1;32m~\\AppData\\Local\\Temp/ipykernel_9100/2404057671.py\u001b[0m in \u001b[0;36m<module>\u001b[1;34m\u001b[0m\n\u001b[1;32m----> 1\u001b[1;33m \u001b[0mhouse_0_list\u001b[0m\u001b[1;33m[\u001b[0m\u001b[1;36m1\u001b[0m\u001b[1;33m]\u001b[0m\u001b[1;33m\u001b[0m\u001b[1;33m\u001b[0m\u001b[0m\n\u001b[0m",
      "\u001b[1;31mNameError\u001b[0m: name 'house_0_list' is not defined"
     ]
    }
   ],
   "source": [
    "house_0_list[1]"
   ]
  },
  {
   "cell_type": "code",
   "execution_count": null,
   "id": "57487621",
   "metadata": {},
   "outputs": [],
   "source": [
    "### to calculate the price per square meter for house_0?"
   ]
  },
  {
   "cell_type": "code",
   "execution_count": 6,
   "id": "3029d39a",
   "metadata": {},
   "outputs": [
    {
     "data": {
      "text/plain": [
       "[115910.26, 128, 4]"
      ]
     },
     "execution_count": 6,
     "metadata": {},
     "output_type": "execute_result"
    }
   ],
   "source": [
    "house_0_list = [115910.26, 128, 4]\n",
    "house_0_list"
   ]
  },
  {
   "cell_type": "code",
   "execution_count": null,
   "id": "c8a3ae75",
   "metadata": {},
   "outputs": [],
   "source": []
  },
  {
   "cell_type": "code",
   "execution_count": 7,
   "id": "c7f8ecd5",
   "metadata": {},
   "outputs": [],
   "source": [
    "house_0_price_m2 = house_0_list[0] / house_0_list[1]"
   ]
  },
  {
   "cell_type": "code",
   "execution_count": 8,
   "id": "9578a16b",
   "metadata": {},
   "outputs": [
    {
     "data": {
      "text/plain": [
       "905.54890625"
      ]
     },
     "execution_count": 8,
     "metadata": {},
     "output_type": "execute_result"
    }
   ],
   "source": [
    "house_0_list[0] / house_0_list[1]"
   ]
  },
  {
   "cell_type": "code",
   "execution_count": 9,
   "id": "6fec819d",
   "metadata": {},
   "outputs": [
    {
     "data": {
      "text/plain": [
       "905.54890625"
      ]
     },
     "execution_count": 9,
     "metadata": {},
     "output_type": "execute_result"
    }
   ],
   "source": [
    "house_0_price_m2"
   ]
  },
  {
   "cell_type": "markdown",
   "id": "45d711e2",
   "metadata": {},
   "source": [
    "### Task 1.1.2:"
   ]
  },
  {
   "cell_type": "code",
   "execution_count": null,
   "id": "15662e41",
   "metadata": {},
   "outputs": [],
   "source": [
    "Next, use the append method to add the price per square meter to the end of the end of house_0."
   ]
  },
  {
   "cell_type": "code",
   "execution_count": null,
   "id": "c6de9649",
   "metadata": {},
   "outputs": [],
   "source": [
    "house_0_list.append(house_0_price_m2)\n",
    "house_0_list"
   ]
  },
  {
   "cell_type": "code",
   "execution_count": null,
   "id": "92ce8fdc",
   "metadata": {},
   "outputs": [],
   "source": [
    "let's think about how to organize the whole dataset. \n",
    "One option would be to create a list for each observation and then put those together in another list.\n",
    "This is called a nested list."
   ]
  },
  {
   "cell_type": "code",
   "execution_count": null,
   "id": "922be877",
   "metadata": {},
   "outputs": [],
   "source": [
    "houses_nested_list = [\n",
    "    [115910.26, 128.0, 4.0],\n",
    "    [48718.17, 210.0, 3.0],\n",
    "    [28977.56, 58.0, 2.0],\n",
    "    [36932.27, 79.0, 3.0],\n",
    "    [83903.51, 111.0, 3.0],\n",
    "]\n",
    "\n",
    "houses_nested_list ## take note that it starts with[] and , after every list. this is a list of lists.\n",
    "##each sublist consistute of a row in the tabuler data"
   ]
  },
  {
   "cell_type": "markdown",
   "id": "6555ebb3",
   "metadata": {},
   "source": [
    "### Task 1.1.3"
   ]
  },
  {
   "cell_type": "code",
   "execution_count": null,
   "id": "8f66e559",
   "metadata": {},
   "outputs": [],
   "source": [
    "Append the price per square meter to each observation in houses_nested_list using a for loop."
   ]
  },
  {
   "cell_type": "code",
   "execution_count": null,
   "id": "a0586d64",
   "metadata": {},
   "outputs": [],
   "source": [
    "houses_nested_list = [\n",
    "    [115910.26, 128.0, 4.0],\n",
    "    [48718.17, 210.0, 3.0],\n",
    "    [28977.56, 58.0, 2.0],\n",
    "    [36932.27, 79.0, 3.0],\n",
    "    [83903.51, 111.0, 3.0],\n",
    "]\n"
   ]
  },
  {
   "cell_type": "code",
   "execution_count": null,
   "id": "ef68285c",
   "metadata": {},
   "outputs": [],
   "source": [
    "for house in houses_nested_list:\n",
    "    price_m2 = house[0] / house[1]\n",
    "    house.append(price_m2)\n",
    "houses_nested_list"
   ]
  },
  {
   "cell_type": "code",
   "execution_count": null,
   "id": "5074d075",
   "metadata": {},
   "outputs": [],
   "source": [
    "## the nested list looks good but you cant really interpreat the data, \n",
    "## you cant tell which is price per square meter, rooms,area or even the price\n",
    "## this is where dictionaries come in handy\n",
    "## with dictionaries we can know what the values stands for"
   ]
  },
  {
   "cell_type": "markdown",
   "id": "81bf1641",
   "metadata": {},
   "source": [
    "###    Working with Dictionaries"
   ]
  },
  {
   "cell_type": "code",
   "execution_count": null,
   "id": "98551e70",
   "metadata": {},
   "outputs": [],
   "source": [
    "Lists are a good way to organize data, but one drawback is that we can only represent values. \n",
    "Why is that a problem? For example, \n",
    "someone looking at [115910.26, 128.0, 4] wouldn't know which values corresponded to price, area, etc. \n",
    "A better option might be a dictionary, \n",
    "where each value is associated with a key. \n",
    "Here's what house_0 looks like as a dictionary instead of a list."
   ]
  },
  {
   "cell_type": "code",
   "execution_count": null,
   "id": "9a68c7ac",
   "metadata": {},
   "outputs": [],
   "source": [
    "house_0_dict = {\n",
    "    \"price_aprox_usd\": 115910.26,\n",
    "    \"surface_covered_in_m2\": 128,\n",
    "    \"rooms\": 4,\n",
    "}\n",
    "\n",
    "house_0_dict ## this is for the info above.\n",
    "## you can tell its a dictionary because of {}"
   ]
  },
  {
   "cell_type": "markdown",
   "id": "323dc3af",
   "metadata": {},
   "source": [
    "### Task 1.1.4:"
   ]
  },
  {
   "cell_type": "code",
   "execution_count": null,
   "id": "1ba2dff7",
   "metadata": {},
   "outputs": [],
   "source": [
    "Calculate the price per square meter for house_0 and add it to the dictionary under the key \"price_per_m2\""
   ]
  },
  {
   "cell_type": "code",
   "execution_count": null,
   "id": "f6003f15",
   "metadata": {},
   "outputs": [],
   "source": [
    "house_0_dict[\"price_per_m2\"] = house_0_dict[\"price_aprox_usd\"] / house_0_dict[\"surface_covered_in_m2\"]\n",
    "house_0_dict"
   ]
  },
  {
   "cell_type": "code",
   "execution_count": null,
   "id": "5dcda638",
   "metadata": {},
   "outputs": [],
   "source": [
    "If we wanted to combine all our observations together, the best way would be to create a list of dictionaries."
   ]
  },
  {
   "cell_type": "code",
   "execution_count": null,
   "id": "1f6e1956",
   "metadata": {},
   "outputs": [],
   "source": [
    "houses_rowwise = [\n",
    "    {\n",
    "        \"price_aprox_usd\": 115910.26,\n",
    "        \"surface_covered_in_m2\": 128,\n",
    "        \"rooms\": 4,\n",
    "    },\n",
    "    {\n",
    "        \"price_aprox_usd\": 48718.17,\n",
    "        \"surface_covered_in_m2\": 210,\n",
    "        \"rooms\": 3,\n",
    "    },\n",
    "    {\n",
    "        \"price_aprox_usd\": 28977.56,\n",
    "        \"surface_covered_in_m2\": 58,\n",
    "        \"rooms\": 2,\n",
    "    },\n",
    "    {\n",
    "        \"price_aprox_usd\": 36932.27,\n",
    "        \"surface_covered_in_m2\": 79,\n",
    "        \"rooms\": 3,\n",
    "    },\n",
    "    {\n",
    "        \"price_aprox_usd\": 83903.51,\n",
    "        \"surface_covered_in_m2\": 111,\n",
    "        \"rooms\": 3,\n",
    "    },\n",
    "]\n",
    "\n",
    "houses_rowwise ## the output is called a list of dictionaries and can also be called records."
   ]
  },
  {
   "cell_type": "code",
   "execution_count": null,
   "id": "ae415b75",
   "metadata": {},
   "outputs": [],
   "source": [
    "This way of storing data is so popular,\n",
    "it has its own name: JSON.\n",
    "We'll learn more about it later in the course. For now, \n",
    "let's build another for loop, but this time, we'll add a add the price per square meter to each dictionary."
   ]
  },
  {
   "cell_type": "markdown",
   "id": "f707beea",
   "metadata": {},
   "source": [
    "### Task 1.1.5"
   ]
  },
  {
   "cell_type": "code",
   "execution_count": 9,
   "id": "184817d8",
   "metadata": {},
   "outputs": [
    {
     "ename": "SyntaxError",
     "evalue": "invalid syntax (Temp/ipykernel_9100/714425594.py, line 1)",
     "output_type": "error",
     "traceback": [
      "\u001b[1;36m  File \u001b[1;32m\"C:\\Users\\pc\\AppData\\Local\\Temp/ipykernel_9100/714425594.py\"\u001b[1;36m, line \u001b[1;32m1\u001b[0m\n\u001b[1;33m    Using a for loop, ## for loop in dictionaries\u001b[0m\n\u001b[1;37m          ^\u001b[0m\n\u001b[1;31mSyntaxError\u001b[0m\u001b[1;31m:\u001b[0m invalid syntax\n"
     ]
    }
   ],
   "source": [
    "Using a for loop, ## for loop in dictionaries\n",
    "calculate the price per square meter and store the result under a \"price_per_m2\" key for each observation in houses_rowwise."
   ]
  },
  {
   "cell_type": "code",
   "execution_count": null,
   "id": "07b107d8",
   "metadata": {},
   "outputs": [],
   "source": [
    "for house in houses_rowwise:\n",
    "    print(house)\n"
   ]
  },
  {
   "cell_type": "code",
   "execution_count": null,
   "id": "89489fd3",
   "metadata": {},
   "outputs": [],
   "source": [
    "for house in houses_rowwise:\n",
    "    house[\"price_per_m2\"] = house[\"price_aprox_usd\"] / house[\"surface_covered_in_m2\"]\n",
    "\n",
    "houses_rowwise ## remember you are still working with dictionaries and not list "
   ]
  },
  {
   "cell_type": "code",
   "execution_count": null,
   "id": "b6190e93",
   "metadata": {},
   "outputs": [],
   "source": [
    "JSON is a great way to organize data,but it does have some downsides. \n",
    "Note that each dictionary represents a single house or, if we think about it as tabular data, a row in our dataset. \n",
    "This means that it's pretty easy to do row-wise calculations (like we did with price per square meter),\n",
    "but column-wise calculations are more complicated. \n",
    "For instance, what if we wanted to know the mean house price for our dataset? \n",
    "First we'd need to collect the price for each house in a list and then calculate mean."
   ]
  },
  {
   "cell_type": "markdown",
   "id": "1bab00e3",
   "metadata": {},
   "source": [
    "## Task 1.1.6"
   ]
  },
  {
   "cell_type": "code",
   "execution_count": null,
   "id": "2f06513b",
   "metadata": {},
   "outputs": [],
   "source": [
    "To calculate the mean price for houses_rowwise by completing the code below."
   ]
  },
  {
   "cell_type": "code",
   "execution_count": null,
   "id": "2af6721c",
   "metadata": {},
   "outputs": [],
   "source": [
    "## so we have been doing rowwise calculations now we want to see how we can do columnwise calculation\n",
    "## so we want to sum up all the prices and devide by the number of observations\n",
    "## how do we do this with our list of dictionaries?"
   ]
  },
  {
   "cell_type": "code",
   "execution_count": null,
   "id": "61d7fb32",
   "metadata": {},
   "outputs": [],
   "source": [
    "## first lets have a list of all our houses prices in it"
   ]
  },
  {
   "cell_type": "code",
   "execution_count": null,
   "id": "609b7f4a",
   "metadata": {},
   "outputs": [],
   "source": [
    "house_prices = []\n",
    "for house in houses_rowwise:\n",
    "    print(house[\"price_aprox_usd\"]) ## this gives us all the house prices from our data set using loop\n",
    "    "
   ]
  },
  {
   "cell_type": "code",
   "execution_count": null,
   "id": "73495879",
   "metadata": {},
   "outputs": [],
   "source": [
    "house_prices = []\n",
    "for house in houses_rowwise:\n",
    "    house_prices.append(house[\"price_aprox_usd\"])\n",
    "house_prices\n",
    "### this gives us all the prices in a list"
   ]
  },
  {
   "cell_type": "code",
   "execution_count": 10,
   "id": "df440f99",
   "metadata": {},
   "outputs": [
    {
     "ename": "NameError",
     "evalue": "name 'houses_rowwise' is not defined",
     "output_type": "error",
     "traceback": [
      "\u001b[1;31m---------------------------------------------------------------------------\u001b[0m",
      "\u001b[1;31mNameError\u001b[0m                                 Traceback (most recent call last)",
      "\u001b[1;32m~\\AppData\\Local\\Temp/ipykernel_9100/4109873672.py\u001b[0m in \u001b[0;36m<module>\u001b[1;34m\u001b[0m\n\u001b[0;32m      1\u001b[0m \u001b[0mhouse_prices\u001b[0m \u001b[1;33m=\u001b[0m \u001b[1;33m[\u001b[0m\u001b[1;33m]\u001b[0m\u001b[1;33m\u001b[0m\u001b[1;33m\u001b[0m\u001b[0m\n\u001b[1;32m----> 2\u001b[1;33m \u001b[1;32mfor\u001b[0m \u001b[0mhouse\u001b[0m \u001b[1;32min\u001b[0m \u001b[0mhouses_rowwise\u001b[0m\u001b[1;33m:\u001b[0m\u001b[1;33m\u001b[0m\u001b[1;33m\u001b[0m\u001b[0m\n\u001b[0m\u001b[0;32m      3\u001b[0m     \u001b[0mhouse_prices\u001b[0m\u001b[1;33m.\u001b[0m\u001b[0mappend\u001b[0m\u001b[1;33m(\u001b[0m\u001b[0mhouse\u001b[0m\u001b[1;33m[\u001b[0m\u001b[1;34m\"price_aprox_usd\"\u001b[0m\u001b[1;33m]\u001b[0m\u001b[1;33m)\u001b[0m\u001b[1;33m\u001b[0m\u001b[1;33m\u001b[0m\u001b[0m\n\u001b[0;32m      4\u001b[0m \u001b[0msum\u001b[0m\u001b[1;33m(\u001b[0m\u001b[0mhouse_prices\u001b[0m\u001b[1;33m)\u001b[0m\u001b[1;33m\u001b[0m\u001b[1;33m\u001b[0m\u001b[0m\n\u001b[0;32m      5\u001b[0m \u001b[1;31m## this gives us the sum of all prices in the list\u001b[0m\u001b[1;33m\u001b[0m\u001b[1;33m\u001b[0m\u001b[0m\n",
      "\u001b[1;31mNameError\u001b[0m: name 'houses_rowwise' is not defined"
     ]
    }
   ],
   "source": [
    "house_prices = []\n",
    "for house in houses_rowwise:\n",
    "    house_prices.append(house[\"price_aprox_usd\"])\n",
    "sum(house_prices)\n",
    "## this gives us the sum of all prices in the list"
   ]
  },
  {
   "cell_type": "code",
   "execution_count": null,
   "id": "14d080cb",
   "metadata": {},
   "outputs": [],
   "source": [
    "house_prices = []\n",
    "for house in houses_rowwise:\n",
    "    house_prices.append(house[\"price_aprox_usd\"])\n",
    "len(house_prices)\n",
    "## this tell us how many items are on the list or the (length)"
   ]
  },
  {
   "cell_type": "code",
   "execution_count": null,
   "id": "b06cb19b",
   "metadata": {},
   "outputs": [],
   "source": [
    "house_prices = []\n",
    "for house in houses_rowwise:\n",
    "    house_prices.append(house[\"price_aprox_usd\"])\n",
    "mean_house_price = sum(house_prices) / len(house_prices)\n",
    "\n",
    "mean_house_price"
   ]
  },
  {
   "cell_type": "code",
   "execution_count": null,
   "id": "9c465358",
   "metadata": {},
   "outputs": [],
   "source": [
    "One way to make this sort of calculation easier is to organize our data by features instead of observations.\n",
    "We'll still use dictionaries and lists, but we'll implement them a slightly differently."
   ]
  },
  {
   "cell_type": "code",
   "execution_count": null,
   "id": "b37f2fef",
   "metadata": {},
   "outputs": [],
   "source": [
    "houses_columnwise = {\n",
    "    \"price_aprox_usd\": [115910.26, 48718.17, 28977.56, 36932.27, 83903.51],\n",
    "    \"surface_covered_in_m2\": [128.0, 210.0, 58.0, 79.0, 111.0],\n",
    "    \"rooms\": [4.0, 3.0, 2.0, 3.0, 3.0],\n",
    "}\n",
    "\n",
    "houses_columnwise \n",
    "## so this is a better way to organizie your data set so its easier to do column operations\n",
    "## a dictionary of lists\n",
    "## before we had a list with dictionaries in it but now we have a dictionary with lists in it"
   ]
  },
  {
   "cell_type": "markdown",
   "id": "410f0291",
   "metadata": {},
   "source": [
    "## Task 1.1.7"
   ]
  },
  {
   "cell_type": "markdown",
   "id": "07c87b29",
   "metadata": {},
   "source": [
    "## Calculate the mean house price in houses_columnwise dictionary"
   ]
  },
  {
   "cell_type": "code",
   "execution_count": null,
   "id": "7ae547ad",
   "metadata": {},
   "outputs": [],
   "source": [
    "houses_columnwise = {\n",
    "    \"price_aprox_usd\": [115910.26, 48718.17, 28977.56, 36932.27, 83903.51],\n",
    "    \"surface_covered_in_m2\": [128.0, 210.0, 58.0, 79.0, 111.0],\n",
    "    \"rooms\": [4.0, 3.0, 2.0, 3.0, 3.0],\n",
    "}\n",
    "\n",
    "houses_columnwise "
   ]
  },
  {
   "cell_type": "code",
   "execution_count": null,
   "id": "01b2652a",
   "metadata": {},
   "outputs": [],
   "source": [
    "mean_house_price = sum(houses_columnwise[\"price_aprox_usd\"]) / len(houses_columnwise[\"price_aprox_usd\"])\n",
    "\n",
    "mean_house_price\n",
    "\n",
    "## way much easier when you organize your data columnwise"
   ]
  },
  {
   "cell_type": "code",
   "execution_count": null,
   "id": "a6a50c03",
   "metadata": {},
   "outputs": [],
   "source": [
    "Of course, when we organize our data according to columns / features, row-wise operations become more difficult."
   ]
  },
  {
   "cell_type": "markdown",
   "id": "7e7dfe60",
   "metadata": {},
   "source": [
    "## Task 1.1.8"
   ]
  },
  {
   "cell_type": "code",
   "execution_count": null,
   "id": "cd4a6a22",
   "metadata": {},
   "outputs": [],
   "source": [
    "Create a \"price_per_m2\" column in houses_columnwise?"
   ]
  },
  {
   "cell_type": "code",
   "execution_count": null,
   "id": "d74d84fa",
   "metadata": {},
   "outputs": [],
   "source": [
    "price = houses_columnwise[\"price_aprox_usd\"]\n",
    "area = houses_columnwise[\"surface_covered_in_m2\"]\n",
    "zip(price,area) ## if you want to combine two separate things together you zip them \n",
    "##but if i run it like this it wont give me any readavble value"
   ]
  },
  {
   "cell_type": "code",
   "execution_count": null,
   "id": "5ac20515",
   "metadata": {},
   "outputs": [],
   "source": [
    "price = houses_columnwise[\"price_aprox_usd\"]\n",
    "area = houses_columnwise[\"surface_covered_in_m2\"]\n",
    "list(zip(price,area)) ## this way i will get my values and these are tuples because they are in()"
   ]
  },
  {
   "cell_type": "code",
   "execution_count": null,
   "id": "472068f1",
   "metadata": {},
   "outputs": [],
   "source": [
    "price = houses_columnwise[\"price_aprox_usd\"]\n",
    "area = houses_columnwise[\"surface_covered_in_m2\"]\n",
    "for x in zip(price,area):\n",
    "    print(x) ## these are tuples too it just printed individually."
   ]
  },
  {
   "cell_type": "code",
   "execution_count": null,
   "id": "e2100394",
   "metadata": {},
   "outputs": [],
   "source": [
    "## whenever you are Iterating in this kind of seneario you can decear the variable say (a for area and p for price)"
   ]
  },
  {
   "cell_type": "code",
   "execution_count": null,
   "id": "ee5b9013",
   "metadata": {},
   "outputs": [],
   "source": [
    "price = houses_columnwise[\"price_aprox_usd\"]\n",
    "area = houses_columnwise[\"surface_covered_in_m2\"]\n",
    "for p, a in zip(price,area):\n",
    "    print(\"price\", p)\n",
    "    print(\"area\", a)"
   ]
  },
  {
   "cell_type": "code",
   "execution_count": null,
   "id": "db981e55",
   "metadata": {},
   "outputs": [],
   "source": [
    "price = houses_columnwise[\"price_aprox_usd\"]\n",
    "area = houses_columnwise[\"surface_covered_in_m2\"]\n",
    "for p, a in zip(price,area):\n",
    "    price_m2 = p / a\n",
    "    print(price_m2)"
   ]
  },
  {
   "cell_type": "code",
   "execution_count": null,
   "id": "0e5dd885",
   "metadata": {},
   "outputs": [],
   "source": [
    "## to make price_m2 a list"
   ]
  },
  {
   "cell_type": "code",
   "execution_count": null,
   "id": "caf09fe5",
   "metadata": {},
   "outputs": [],
   "source": [
    "price = houses_columnwise[\"price_aprox_usd\"]\n",
    "area = houses_columnwise[\"surface_covered_in_m2\"]\n",
    "\n",
    "price_per_m2 = []\n",
    "for p, a in zip(price,area):\n",
    "    price_m2 = p / a\n",
    "    price_per_m2.append(price_m2)\n",
    "price_per_m2"
   ]
  },
  {
   "cell_type": "code",
   "execution_count": null,
   "id": "fac60690",
   "metadata": {},
   "outputs": [],
   "source": [
    "## to put this in your dictionary useing the new key price_per_m2 as a string making it = to the list we just created"
   ]
  },
  {
   "cell_type": "code",
   "execution_count": null,
   "id": "751909c4",
   "metadata": {},
   "outputs": [],
   "source": [
    "price = houses_columnwise[\"price_aprox_usd\"]\n",
    "area = houses_columnwise[\"surface_covered_in_m2\"]\n",
    "\n",
    "price_per_m2 = []\n",
    "for p, a in zip(price,area):\n",
    "    price_m2 = p / a\n",
    "    price_per_m2.append(price_m2)\n",
    "\n",
    "houses_columnwise[\"price_per_m2\"] = price_per_m2\n",
    "houses_columnwise"
   ]
  },
  {
   "cell_type": "markdown",
   "id": "9b05b1ff",
   "metadata": {},
   "source": [
    "## Tabular Data and pandas DataFrames"
   ]
  },
  {
   "cell_type": "code",
   "execution_count": null,
   "id": "04dfdc91",
   "metadata": {},
   "outputs": [],
   "source": [
    "now we can wrangle data using lists and dictionaries, \n",
    "it's not as intuitive as working with, say, a spreadsheet. \n",
    "Fortunately, there are lots of libraries for Python that make it an even better tool for tabular data —\n",
    "way better than spreadsheet applications like Microsoft Excel or Google Sheets!\n",
    "One of the best known data science libraries is pandas, which allows you to organize data into DataFrames.\n",
    "\n",
    "Let's import pandas and then create a DataFrame from houses_columnwise."
   ]
  },
  {
   "cell_type": "code",
   "execution_count": null,
   "id": "8836f5ee",
   "metadata": {},
   "outputs": [],
   "source": [
    "import pandas as pd\n",
    "\n",
    "data = {\n",
    "    \"price_aprox_usd\": [115910.26, 48718.17, 28977.56, 36932.27, 83903.51],\n",
    "    \"surface_covered_in_m2\": [128.0, 210.0, 58.0, 79.0, 111.0],\n",
    "    \"rooms\": [4.0, 3.0, 2.0, 3.0, 3.0],\n",
    "}\n",
    "\n",
    "df_houses = pd.DataFrame(data)\n",
    "\n",
    "df_houses"
   ]
  },
  {
   "cell_type": "code",
   "execution_count": null,
   "id": "81da283d",
   "metadata": {},
   "outputs": [],
   "source": []
  },
  {
   "cell_type": "markdown",
   "id": "9ff21137",
   "metadata": {},
   "source": [
    "### Preparing Data"
   ]
  },
  {
   "cell_type": "markdown",
   "id": "194522f4",
   "metadata": {},
   "source": [
    "## 1. Import"
   ]
  },
  {
   "cell_type": "code",
   "execution_count": 11,
   "id": "0e4b58bc",
   "metadata": {},
   "outputs": [
    {
     "ename": "SyntaxError",
     "evalue": "invalid syntax (Temp/ipykernel_9100/3451906605.py, line 1)",
     "output_type": "error",
     "traceback": [
      "\u001b[1;36m  File \u001b[1;32m\"C:\\Users\\pc\\AppData\\Local\\Temp/ipykernel_9100/3451906605.py\"\u001b[1;36m, line \u001b[1;32m1\u001b[0m\n\u001b[1;33m    The first part of any data science project is preparing your data,\u001b[0m\n\u001b[1;37m        ^\u001b[0m\n\u001b[1;31mSyntaxError\u001b[0m\u001b[1;31m:\u001b[0m invalid syntax\n"
     ]
    }
   ],
   "source": [
    "The first part of any data science project is preparing your data,\n",
    "which means making sure its in the right place and format for you to conduct your analysis. \n",
    "The first step of any data preparation is importing your raw data and cleaning it.\n",
    "\n",
    "If you look in the small-data directory on your machine, you'll see that the data for this project comes in three CSV files:\n",
    "mexico-real-estate-1.csv, mexico-real-estate-2.csv, and mexico-real-estate-3.csv."
   ]
  },
  {
   "cell_type": "code",
   "execution_count": null,
   "id": "098573b5",
   "metadata": {},
   "outputs": [],
   "source": [
    "Task 1.2.1: Read these three files into three separate DataFrames named df1, df2, and df3, respectively."
   ]
  },
  {
   "cell_type": "code",
   "execution_count": 53,
   "id": "3c54e23a",
   "metadata": {},
   "outputs": [],
   "source": [
    "import pandas as pd"
   ]
  },
  {
   "cell_type": "code",
   "execution_count": 54,
   "id": "80d57d76",
   "metadata": {},
   "outputs": [],
   "source": [
    "df1=pd.read_csv(\"mexico-real-estate-1.txt\")\n",
    "df2=pd.read_csv(\"mexico-real-estate-2.txt\")\n",
    "df3=pd.read_csv(\"mexico-real-estate-3.txt\")"
   ]
  },
  {
   "cell_type": "code",
   "execution_count": 21,
   "id": "e4c5dda0",
   "metadata": {},
   "outputs": [],
   "source": [
    "## after importing data and before you start working on it its good to look through that is inspecting your data,\n",
    "##lets assume our csv file name is dfi\n",
    "# to look trough df to know the number of row and columes df.shape, df.info() will give us more infomation about the data set,\n",
    "## df.head() is another tool to inspect your data it gives us the first 5 rows of your data if you want to be specific\n",
    "## the first 2 rows df.head(2)\n",
    "## strings will be read as objects and when  numbers carry , or $ it maybe interpreated as an object if so you would\n",
    "## have to work on the data it ca be interpreted as float so that mathmatical functions can be done with it."
   ]
  },
  {
   "cell_type": "markdown",
   "id": "a045100e",
   "metadata": {},
   "source": [
    "### Clean df1"
   ]
  },
  {
   "cell_type": "code",
   "execution_count": null,
   "id": "b76f718c",
   "metadata": {},
   "outputs": [],
   "source": [
    "\n",
    "Now that you have your three DataFrames, \n",
    "it's time to inspect them to see if they need any cleaning. Let's look at them one-by-one."
   ]
  },
  {
   "cell_type": "code",
   "execution_count": null,
   "id": "11e0a411",
   "metadata": {},
   "outputs": [],
   "source": [
    "Task 1.2.2: \n",
    "Inspect df1 by looking at its shape attribute. \n",
    "Then use the info method to see the data types and number of missing values for each column. \n",
    "Finally, use the head method to determine to look at the first five rows of your dataset.\n",
    "\n",
    "Inspect a DataFrame using the shape, info, and head in pandas."
   ]
  },
  {
   "cell_type": "code",
   "execution_count": 55,
   "id": "099bb975",
   "metadata": {},
   "outputs": [
    {
     "data": {
      "text/plain": [
       "(700, 6)"
      ]
     },
     "execution_count": 55,
     "metadata": {},
     "output_type": "execute_result"
    }
   ],
   "source": [
    "df1.shape ## this tells you the number of rows and columns hear we have 700 rows and 6 columns"
   ]
  },
  {
   "cell_type": "code",
   "execution_count": 56,
   "id": "191bd0a0",
   "metadata": {},
   "outputs": [
    {
     "name": "stdout",
     "output_type": "stream",
     "text": [
      "<class 'pandas.core.frame.DataFrame'>\n",
      "RangeIndex: 700 entries, 0 to 699\n",
      "Data columns (total 6 columns):\n",
      " #   Column         Non-Null Count  Dtype  \n",
      "---  ------         --------------  -----  \n",
      " 0   property_type  700 non-null    object \n",
      " 1   state          700 non-null    object \n",
      " 2   lat            583 non-null    float64\n",
      " 3   lon            583 non-null    float64\n",
      " 4   area_m2        700 non-null    float64\n",
      " 5   price_usd      700 non-null    object \n",
      "dtypes: float64(3), object(3)\n",
      "memory usage: 32.9+ KB\n"
     ]
    }
   ],
   "source": [
    "df1.info() ## this give more info tells u how many null, details of the column, memory consumption, \n",
    "##datatypes if its floats or string"
   ]
  },
  {
   "cell_type": "code",
   "execution_count": 57,
   "id": "21907b47",
   "metadata": {},
   "outputs": [
    {
     "data": {
      "text/html": [
       "<div>\n",
       "<style scoped>\n",
       "    .dataframe tbody tr th:only-of-type {\n",
       "        vertical-align: middle;\n",
       "    }\n",
       "\n",
       "    .dataframe tbody tr th {\n",
       "        vertical-align: top;\n",
       "    }\n",
       "\n",
       "    .dataframe thead th {\n",
       "        text-align: right;\n",
       "    }\n",
       "</style>\n",
       "<table border=\"1\" class=\"dataframe\">\n",
       "  <thead>\n",
       "    <tr style=\"text-align: right;\">\n",
       "      <th></th>\n",
       "      <th>property_type</th>\n",
       "      <th>state</th>\n",
       "      <th>lat</th>\n",
       "      <th>lon</th>\n",
       "      <th>area_m2</th>\n",
       "      <th>price_usd</th>\n",
       "    </tr>\n",
       "  </thead>\n",
       "  <tbody>\n",
       "    <tr>\n",
       "      <th>0</th>\n",
       "      <td>house</td>\n",
       "      <td>Estado de México</td>\n",
       "      <td>19.560181</td>\n",
       "      <td>-99.233528</td>\n",
       "      <td>150.0</td>\n",
       "      <td>$67,965.56</td>\n",
       "    </tr>\n",
       "    <tr>\n",
       "      <th>1</th>\n",
       "      <td>house</td>\n",
       "      <td>Nuevo León</td>\n",
       "      <td>25.688436</td>\n",
       "      <td>-100.198807</td>\n",
       "      <td>186.0</td>\n",
       "      <td>$63,223.78</td>\n",
       "    </tr>\n",
       "    <tr>\n",
       "      <th>2</th>\n",
       "      <td>apartment</td>\n",
       "      <td>Guerrero</td>\n",
       "      <td>16.767704</td>\n",
       "      <td>-99.764383</td>\n",
       "      <td>82.0</td>\n",
       "      <td>$84,298.37</td>\n",
       "    </tr>\n",
       "    <tr>\n",
       "      <th>3</th>\n",
       "      <td>apartment</td>\n",
       "      <td>Guerrero</td>\n",
       "      <td>16.829782</td>\n",
       "      <td>-99.911012</td>\n",
       "      <td>150.0</td>\n",
       "      <td>$94,308.80</td>\n",
       "    </tr>\n",
       "    <tr>\n",
       "      <th>4</th>\n",
       "      <td>house</td>\n",
       "      <td>Veracruz de Ignacio de la Llave</td>\n",
       "      <td>NaN</td>\n",
       "      <td>NaN</td>\n",
       "      <td>175.0</td>\n",
       "      <td>$94,835.67</td>\n",
       "    </tr>\n",
       "  </tbody>\n",
       "</table>\n",
       "</div>"
      ],
      "text/plain": [
       "  property_type                            state        lat         lon  \\\n",
       "0         house                 Estado de México  19.560181  -99.233528   \n",
       "1         house                       Nuevo León  25.688436 -100.198807   \n",
       "2     apartment                         Guerrero  16.767704  -99.764383   \n",
       "3     apartment                         Guerrero  16.829782  -99.911012   \n",
       "4         house  Veracruz de Ignacio de la Llave        NaN         NaN   \n",
       "\n",
       "   area_m2   price_usd  \n",
       "0    150.0  $67,965.56  \n",
       "1    186.0  $63,223.78  \n",
       "2     82.0  $84,298.37  \n",
       "3    150.0  $94,308.80  \n",
       "4    175.0  $94,835.67  "
      ]
     },
     "execution_count": 57,
     "metadata": {},
     "output_type": "execute_result"
    }
   ],
   "source": [
    "df1.head() ## this gives you the first 5 rows of your data"
   ]
  },
  {
   "cell_type": "code",
   "execution_count": null,
   "id": "61222a08",
   "metadata": {},
   "outputs": [],
   "source": [
    "It looks like there are a couple of problems in this DataFrame that you need to solve. \n",
    "First, there are many rows with NaN values in the \"lat\" and \"lon\" columns.\n",
    "Second, the data type for the \"price_usd\" column is object when it should be float."
   ]
  },
  {
   "cell_type": "code",
   "execution_count": null,
   "id": "085a2fd1",
   "metadata": {},
   "outputs": [],
   "source": [
    "Task 1.2.3: \n",
    "Clean df1 by dropping rows with NaN values. \n",
    "Then remove the \"$\" and \",\" characters from \"price_usd\" and recast the values in the column as floats."
   ]
  },
  {
   "cell_type": "code",
   "execution_count": 58,
   "id": "a9c92793",
   "metadata": {},
   "outputs": [],
   "source": [
    "### remove'NaN' values\n",
    "df1.dropna(inplace=True)"
   ]
  },
  {
   "cell_type": "code",
   "execution_count": 26,
   "id": "52b16198",
   "metadata": {},
   "outputs": [
    {
     "name": "stdout",
     "output_type": "stream",
     "text": [
      "<class 'pandas.core.frame.DataFrame'>\n",
      "Int64Index: 583 entries, 0 to 699\n",
      "Data columns (total 6 columns):\n",
      " #   Column         Non-Null Count  Dtype  \n",
      "---  ------         --------------  -----  \n",
      " 0   property_type  583 non-null    object \n",
      " 1   state          583 non-null    object \n",
      " 2   lat            583 non-null    float64\n",
      " 3   lon            583 non-null    float64\n",
      " 4   area_m2        583 non-null    float64\n",
      " 5   price_usd      583 non-null    object \n",
      "dtypes: float64(3), object(3)\n",
      "memory usage: 31.9+ KB\n"
     ]
    }
   ],
   "source": [
    "df1.info()"
   ]
  },
  {
   "cell_type": "code",
   "execution_count": null,
   "id": "492c5db4",
   "metadata": {},
   "outputs": [],
   "source": [
    "## notice that its no longer 700 entries its now 583 cos it has removed the NaN (not a number) empty values"
   ]
  },
  {
   "cell_type": "code",
   "execution_count": 59,
   "id": "22a4e9e3",
   "metadata": {},
   "outputs": [
    {
     "data": {
      "text/plain": [
       "0     $67,965.56\n",
       "1     $63,223.78\n",
       "2     $84,298.37\n",
       "3     $94,308.80\n",
       "5    $105,191.37\n",
       "Name: price_usd, dtype: object"
      ]
     },
     "execution_count": 59,
     "metadata": {},
     "output_type": "execute_result"
    }
   ],
   "source": [
    "df1[\"price_usd\"].head() # this gives you just the price and data type which is object but we want it as string"
   ]
  },
  {
   "cell_type": "code",
   "execution_count": 60,
   "id": "6e707b83",
   "metadata": {},
   "outputs": [
    {
     "name": "stderr",
     "output_type": "stream",
     "text": [
      "C:\\Users\\pc\\AppData\\Local\\Temp/ipykernel_9100/157757533.py:1: FutureWarning: The default value of regex will change from True to False in a future version. In addition, single character regular expressions will *not* be treated as literal strings when regex=True.\n",
      "  df1[\"price_usd\"].str.replace(\"$\",\"\").head()\n"
     ]
    },
    {
     "data": {
      "text/plain": [
       "0     67,965.56\n",
       "1     63,223.78\n",
       "2     84,298.37\n",
       "3     94,308.80\n",
       "5    105,191.37\n",
       "Name: price_usd, dtype: object"
      ]
     },
     "execution_count": 60,
     "metadata": {},
     "output_type": "execute_result"
    }
   ],
   "source": [
    "df1[\"price_usd\"].str.replace(\"$\",\"\").head()"
   ]
  },
  {
   "cell_type": "code",
   "execution_count": 61,
   "id": "d61aa69e",
   "metadata": {},
   "outputs": [
    {
     "data": {
      "text/plain": [
       "0     67,965.56\n",
       "1     63,223.78\n",
       "2     84,298.37\n",
       "3     94,308.80\n",
       "5    105,191.37\n",
       "Name: price_usd, dtype: object"
      ]
     },
     "execution_count": 61,
     "metadata": {},
     "output_type": "execute_result"
    }
   ],
   "source": [
    "df1[\"price_usd\"].str.replace(\"$\",\"\",regex=False).head() ## this has remove the $ sign but we still need to remove the ,"
   ]
  },
  {
   "cell_type": "code",
   "execution_count": 62,
   "id": "974f180e",
   "metadata": {},
   "outputs": [
    {
     "data": {
      "text/plain": [
       "0     67965.56\n",
       "1     63223.78\n",
       "2     84298.37\n",
       "3     94308.80\n",
       "5    105191.37\n",
       "Name: price_usd, dtype: object"
      ]
     },
     "execution_count": 62,
     "metadata": {},
     "output_type": "execute_result"
    }
   ],
   "source": [
    "df1[\"price_usd\"].str.replace(\"$\",\"\",regex=False).str.replace(\",\",\"\").head() # this has removed the , but the data type is still\n",
    "# object and we want it to be float"
   ]
  },
  {
   "cell_type": "code",
   "execution_count": 63,
   "id": "14e02474",
   "metadata": {},
   "outputs": [
    {
     "data": {
      "text/plain": [
       "0     67965.56\n",
       "1     63223.78\n",
       "2     84298.37\n",
       "3     94308.80\n",
       "5    105191.37\n",
       "Name: price_usd, dtype: float64"
      ]
     },
     "execution_count": 63,
     "metadata": {},
     "output_type": "execute_result"
    }
   ],
   "source": [
    "df1[\"price_usd\"].str.replace(\"$\",\"\",regex=False).str.replace(\",\",\"\").astype(float).head() # this has made it a float\n",
    "# but it looks messy and we want it applicable to the whole table and not just the first 5 rows."
   ]
  },
  {
   "cell_type": "code",
   "execution_count": 64,
   "id": "bf2b331b",
   "metadata": {},
   "outputs": [],
   "source": [
    "df1[\"price_usd\"] = (\n",
    "    df1[\"price_usd\"]\n",
    "    .str.replace(\"$\",\"\",regex=False)\n",
    "    .str.replace(\",\",\"\")\n",
    "    .astype(float)\n",
    ")"
   ]
  },
  {
   "cell_type": "code",
   "execution_count": 65,
   "id": "c436d6bd",
   "metadata": {},
   "outputs": [
    {
     "data": {
      "text/plain": [
       "0       67965.56\n",
       "1       63223.78\n",
       "2       84298.37\n",
       "3       94308.80\n",
       "5      105191.37\n",
       "         ...    \n",
       "693    115910.26\n",
       "694     77572.89\n",
       "696    137017.34\n",
       "697    110404.35\n",
       "699     56637.97\n",
       "Name: price_usd, Length: 583, dtype: float64"
      ]
     },
     "execution_count": 65,
     "metadata": {},
     "output_type": "execute_result"
    }
   ],
   "source": [
    "df1[\"price_usd\"]"
   ]
  },
  {
   "cell_type": "markdown",
   "id": "4c65008a",
   "metadata": {},
   "source": [
    "### Clean df2"
   ]
  },
  {
   "cell_type": "code",
   "execution_count": null,
   "id": "50314f2f",
   "metadata": {},
   "outputs": [],
   "source": [
    "\n",
    "Now it's time to tackle df2. \n",
    "Take a moment to inspect it using the same commands you used before. \n",
    "You'll notice that it has the same issue of NaN values, but there's a new problem, too: \n",
    "    The home prices are in Mexican pesos (\"price_mxn\"), not US dollars (\"price_usd\"). \n",
    "    If we want to compare all the home prices in this dataset, they all need to be in the same currency."
   ]
  },
  {
   "cell_type": "code",
   "execution_count": 66,
   "id": "23cfa5f8",
   "metadata": {},
   "outputs": [
    {
     "data": {
      "text/html": [
       "<div>\n",
       "<style scoped>\n",
       "    .dataframe tbody tr th:only-of-type {\n",
       "        vertical-align: middle;\n",
       "    }\n",
       "\n",
       "    .dataframe tbody tr th {\n",
       "        vertical-align: top;\n",
       "    }\n",
       "\n",
       "    .dataframe thead th {\n",
       "        text-align: right;\n",
       "    }\n",
       "</style>\n",
       "<table border=\"1\" class=\"dataframe\">\n",
       "  <thead>\n",
       "    <tr style=\"text-align: right;\">\n",
       "      <th></th>\n",
       "      <th>property_type</th>\n",
       "      <th>state</th>\n",
       "      <th>lat</th>\n",
       "      <th>lon</th>\n",
       "      <th>area_m2</th>\n",
       "      <th>price_mxn</th>\n",
       "    </tr>\n",
       "  </thead>\n",
       "  <tbody>\n",
       "    <tr>\n",
       "      <th>0</th>\n",
       "      <td>apartment</td>\n",
       "      <td>Nuevo León</td>\n",
       "      <td>25.721081</td>\n",
       "      <td>-100.345581</td>\n",
       "      <td>72.0</td>\n",
       "      <td>1300000.0</td>\n",
       "    </tr>\n",
       "    <tr>\n",
       "      <th>1</th>\n",
       "      <td>apartment</td>\n",
       "      <td>Puebla</td>\n",
       "      <td>NaN</td>\n",
       "      <td>NaN</td>\n",
       "      <td>190.0</td>\n",
       "      <td>2500000.0</td>\n",
       "    </tr>\n",
       "    <tr>\n",
       "      <th>2</th>\n",
       "      <td>house</td>\n",
       "      <td>Morelos</td>\n",
       "      <td>23.634501</td>\n",
       "      <td>-102.552788</td>\n",
       "      <td>360.0</td>\n",
       "      <td>5300000.0</td>\n",
       "    </tr>\n",
       "    <tr>\n",
       "      <th>3</th>\n",
       "      <td>house</td>\n",
       "      <td>Morelos</td>\n",
       "      <td>NaN</td>\n",
       "      <td>NaN</td>\n",
       "      <td>76.0</td>\n",
       "      <td>820000.0</td>\n",
       "    </tr>\n",
       "    <tr>\n",
       "      <th>4</th>\n",
       "      <td>house</td>\n",
       "      <td>Puebla</td>\n",
       "      <td>NaN</td>\n",
       "      <td>NaN</td>\n",
       "      <td>200.0</td>\n",
       "      <td>1100000.0</td>\n",
       "    </tr>\n",
       "  </tbody>\n",
       "</table>\n",
       "</div>"
      ],
      "text/plain": [
       "  property_type       state        lat         lon  area_m2  price_mxn\n",
       "0     apartment  Nuevo León  25.721081 -100.345581     72.0  1300000.0\n",
       "1     apartment      Puebla        NaN         NaN    190.0  2500000.0\n",
       "2         house     Morelos  23.634501 -102.552788    360.0  5300000.0\n",
       "3         house     Morelos        NaN         NaN     76.0   820000.0\n",
       "4         house      Puebla        NaN         NaN    200.0  1100000.0"
      ]
     },
     "execution_count": 66,
     "metadata": {},
     "output_type": "execute_result"
    }
   ],
   "source": [
    "df2.head()"
   ]
  },
  {
   "cell_type": "code",
   "execution_count": null,
   "id": "6bdc8c2f",
   "metadata": {},
   "outputs": [],
   "source": [
    "Task 1.2.4: \n",
    "First, drop rows with NaN values in df2. Next, use the \"price_mxn\" column to create a new column named \"price_usd\". \n",
    "(Keep in mind that, when this data was collected in 2014, a dollar cost 19 pesos.) \n",
    "Finally, drop the \"price_mxn\" from the DataFrame."
   ]
  },
  {
   "cell_type": "code",
   "execution_count": 67,
   "id": "bdab71e9",
   "metadata": {},
   "outputs": [],
   "source": [
    "# remove NaN values\n",
    "df2.dropna(inplace=True)"
   ]
  },
  {
   "cell_type": "code",
   "execution_count": 68,
   "id": "f3f0160e",
   "metadata": {},
   "outputs": [
    {
     "name": "stdout",
     "output_type": "stream",
     "text": [
      "<class 'pandas.core.frame.DataFrame'>\n",
      "Int64Index: 571 entries, 0 to 699\n",
      "Data columns (total 6 columns):\n",
      " #   Column         Non-Null Count  Dtype  \n",
      "---  ------         --------------  -----  \n",
      " 0   property_type  571 non-null    object \n",
      " 1   state          571 non-null    object \n",
      " 2   lat            571 non-null    float64\n",
      " 3   lon            571 non-null    float64\n",
      " 4   area_m2        571 non-null    float64\n",
      " 5   price_mxn      571 non-null    float64\n",
      "dtypes: float64(4), object(2)\n",
      "memory usage: 31.2+ KB\n"
     ]
    }
   ],
   "source": [
    "df2.info()"
   ]
  },
  {
   "cell_type": "code",
   "execution_count": 69,
   "id": "43d794bf",
   "metadata": {},
   "outputs": [
    {
     "data": {
      "text/html": [
       "<div>\n",
       "<style scoped>\n",
       "    .dataframe tbody tr th:only-of-type {\n",
       "        vertical-align: middle;\n",
       "    }\n",
       "\n",
       "    .dataframe tbody tr th {\n",
       "        vertical-align: top;\n",
       "    }\n",
       "\n",
       "    .dataframe thead th {\n",
       "        text-align: right;\n",
       "    }\n",
       "</style>\n",
       "<table border=\"1\" class=\"dataframe\">\n",
       "  <thead>\n",
       "    <tr style=\"text-align: right;\">\n",
       "      <th></th>\n",
       "      <th>property_type</th>\n",
       "      <th>state</th>\n",
       "      <th>lat</th>\n",
       "      <th>lon</th>\n",
       "      <th>area_m2</th>\n",
       "      <th>price_mxn</th>\n",
       "    </tr>\n",
       "  </thead>\n",
       "  <tbody>\n",
       "    <tr>\n",
       "      <th>0</th>\n",
       "      <td>apartment</td>\n",
       "      <td>Nuevo León</td>\n",
       "      <td>25.721081</td>\n",
       "      <td>-100.345581</td>\n",
       "      <td>72.0</td>\n",
       "      <td>1300000.0</td>\n",
       "    </tr>\n",
       "    <tr>\n",
       "      <th>2</th>\n",
       "      <td>house</td>\n",
       "      <td>Morelos</td>\n",
       "      <td>23.634501</td>\n",
       "      <td>-102.552788</td>\n",
       "      <td>360.0</td>\n",
       "      <td>5300000.0</td>\n",
       "    </tr>\n",
       "    <tr>\n",
       "      <th>6</th>\n",
       "      <td>apartment</td>\n",
       "      <td>Estado de México</td>\n",
       "      <td>19.272040</td>\n",
       "      <td>-99.572013</td>\n",
       "      <td>85.0</td>\n",
       "      <td>1250000.0</td>\n",
       "    </tr>\n",
       "    <tr>\n",
       "      <th>7</th>\n",
       "      <td>house</td>\n",
       "      <td>San Luis Potosí</td>\n",
       "      <td>22.138882</td>\n",
       "      <td>-100.996510</td>\n",
       "      <td>158.0</td>\n",
       "      <td>2120000.0</td>\n",
       "    </tr>\n",
       "    <tr>\n",
       "      <th>8</th>\n",
       "      <td>apartment</td>\n",
       "      <td>Distrito Federal</td>\n",
       "      <td>19.394558</td>\n",
       "      <td>-99.129707</td>\n",
       "      <td>65.0</td>\n",
       "      <td>758190.0</td>\n",
       "    </tr>\n",
       "  </tbody>\n",
       "</table>\n",
       "</div>"
      ],
      "text/plain": [
       "  property_type             state        lat         lon  area_m2  price_mxn\n",
       "0     apartment        Nuevo León  25.721081 -100.345581     72.0  1300000.0\n",
       "2         house           Morelos  23.634501 -102.552788    360.0  5300000.0\n",
       "6     apartment  Estado de México  19.272040  -99.572013     85.0  1250000.0\n",
       "7         house   San Luis Potosí  22.138882 -100.996510    158.0  2120000.0\n",
       "8     apartment  Distrito Federal  19.394558  -99.129707     65.0   758190.0"
      ]
     },
     "execution_count": 69,
     "metadata": {},
     "output_type": "execute_result"
    }
   ],
   "source": [
    "df2.head() ## so we noticed that the price is in mexican  pasos instead of the US $ and\n",
    "#from above we were told that a dollar cost 19 pesos"
   ]
  },
  {
   "cell_type": "code",
   "execution_count": 70,
   "id": "60b68792",
   "metadata": {},
   "outputs": [
    {
     "data": {
      "text/html": [
       "<div>\n",
       "<style scoped>\n",
       "    .dataframe tbody tr th:only-of-type {\n",
       "        vertical-align: middle;\n",
       "    }\n",
       "\n",
       "    .dataframe tbody tr th {\n",
       "        vertical-align: top;\n",
       "    }\n",
       "\n",
       "    .dataframe thead th {\n",
       "        text-align: right;\n",
       "    }\n",
       "</style>\n",
       "<table border=\"1\" class=\"dataframe\">\n",
       "  <thead>\n",
       "    <tr style=\"text-align: right;\">\n",
       "      <th></th>\n",
       "      <th>property_type</th>\n",
       "      <th>state</th>\n",
       "      <th>lat</th>\n",
       "      <th>lon</th>\n",
       "      <th>area_m2</th>\n",
       "      <th>price_mxn</th>\n",
       "    </tr>\n",
       "  </thead>\n",
       "  <tbody>\n",
       "    <tr>\n",
       "      <th>0</th>\n",
       "      <td>apartment</td>\n",
       "      <td>Nuevo León</td>\n",
       "      <td>25.721081</td>\n",
       "      <td>-100.345581</td>\n",
       "      <td>72.0</td>\n",
       "      <td>1300000.0</td>\n",
       "    </tr>\n",
       "    <tr>\n",
       "      <th>2</th>\n",
       "      <td>house</td>\n",
       "      <td>Morelos</td>\n",
       "      <td>23.634501</td>\n",
       "      <td>-102.552788</td>\n",
       "      <td>360.0</td>\n",
       "      <td>5300000.0</td>\n",
       "    </tr>\n",
       "    <tr>\n",
       "      <th>6</th>\n",
       "      <td>apartment</td>\n",
       "      <td>Estado de México</td>\n",
       "      <td>19.272040</td>\n",
       "      <td>-99.572013</td>\n",
       "      <td>85.0</td>\n",
       "      <td>1250000.0</td>\n",
       "    </tr>\n",
       "    <tr>\n",
       "      <th>7</th>\n",
       "      <td>house</td>\n",
       "      <td>San Luis Potosí</td>\n",
       "      <td>22.138882</td>\n",
       "      <td>-100.996510</td>\n",
       "      <td>158.0</td>\n",
       "      <td>2120000.0</td>\n",
       "    </tr>\n",
       "    <tr>\n",
       "      <th>8</th>\n",
       "      <td>apartment</td>\n",
       "      <td>Distrito Federal</td>\n",
       "      <td>19.394558</td>\n",
       "      <td>-99.129707</td>\n",
       "      <td>65.0</td>\n",
       "      <td>758190.0</td>\n",
       "    </tr>\n",
       "  </tbody>\n",
       "</table>\n",
       "</div>"
      ],
      "text/plain": [
       "  property_type             state        lat         lon  area_m2  price_mxn\n",
       "0     apartment        Nuevo León  25.721081 -100.345581     72.0  1300000.0\n",
       "2         house           Morelos  23.634501 -102.552788    360.0  5300000.0\n",
       "6     apartment  Estado de México  19.272040  -99.572013     85.0  1250000.0\n",
       "7         house   San Luis Potosí  22.138882 -100.996510    158.0  2120000.0\n",
       "8     apartment  Distrito Federal  19.394558  -99.129707     65.0   758190.0"
      ]
     },
     "execution_count": 70,
     "metadata": {},
     "output_type": "execute_result"
    }
   ],
   "source": [
    "df2[0:5] # this is slicing as applicable to list, so you can slice the nubers you need"
   ]
  },
  {
   "cell_type": "code",
   "execution_count": 71,
   "id": "c30160ec",
   "metadata": {},
   "outputs": [
    {
     "data": {
      "text/html": [
       "<div>\n",
       "<style scoped>\n",
       "    .dataframe tbody tr th:only-of-type {\n",
       "        vertical-align: middle;\n",
       "    }\n",
       "\n",
       "    .dataframe tbody tr th {\n",
       "        vertical-align: top;\n",
       "    }\n",
       "\n",
       "    .dataframe thead th {\n",
       "        text-align: right;\n",
       "    }\n",
       "</style>\n",
       "<table border=\"1\" class=\"dataframe\">\n",
       "  <thead>\n",
       "    <tr style=\"text-align: right;\">\n",
       "      <th></th>\n",
       "      <th>property_type</th>\n",
       "      <th>state</th>\n",
       "      <th>lat</th>\n",
       "      <th>lon</th>\n",
       "      <th>area_m2</th>\n",
       "      <th>price_mxn</th>\n",
       "    </tr>\n",
       "  </thead>\n",
       "  <tbody>\n",
       "    <tr>\n",
       "      <th>0</th>\n",
       "      <td>apartment</td>\n",
       "      <td>Nuevo León</td>\n",
       "      <td>25.721081</td>\n",
       "      <td>-100.345581</td>\n",
       "      <td>72.0</td>\n",
       "      <td>1300000.0</td>\n",
       "    </tr>\n",
       "    <tr>\n",
       "      <th>2</th>\n",
       "      <td>house</td>\n",
       "      <td>Morelos</td>\n",
       "      <td>23.634501</td>\n",
       "      <td>-102.552788</td>\n",
       "      <td>360.0</td>\n",
       "      <td>5300000.0</td>\n",
       "    </tr>\n",
       "    <tr>\n",
       "      <th>6</th>\n",
       "      <td>apartment</td>\n",
       "      <td>Estado de México</td>\n",
       "      <td>19.272040</td>\n",
       "      <td>-99.572013</td>\n",
       "      <td>85.0</td>\n",
       "      <td>1250000.0</td>\n",
       "    </tr>\n",
       "    <tr>\n",
       "      <th>7</th>\n",
       "      <td>house</td>\n",
       "      <td>San Luis Potosí</td>\n",
       "      <td>22.138882</td>\n",
       "      <td>-100.996510</td>\n",
       "      <td>158.0</td>\n",
       "      <td>2120000.0</td>\n",
       "    </tr>\n",
       "    <tr>\n",
       "      <th>8</th>\n",
       "      <td>apartment</td>\n",
       "      <td>Distrito Federal</td>\n",
       "      <td>19.394558</td>\n",
       "      <td>-99.129707</td>\n",
       "      <td>65.0</td>\n",
       "      <td>758190.0</td>\n",
       "    </tr>\n",
       "    <tr>\n",
       "      <th>10</th>\n",
       "      <td>house</td>\n",
       "      <td>Veracruz de Ignacio de la Llave</td>\n",
       "      <td>19.168067</td>\n",
       "      <td>-96.160663</td>\n",
       "      <td>100.0</td>\n",
       "      <td>670000.0</td>\n",
       "    </tr>\n",
       "    <tr>\n",
       "      <th>11</th>\n",
       "      <td>apartment</td>\n",
       "      <td>Distrito Federal</td>\n",
       "      <td>19.326196</td>\n",
       "      <td>-99.140586</td>\n",
       "      <td>74.0</td>\n",
       "      <td>2990000.0</td>\n",
       "    </tr>\n",
       "  </tbody>\n",
       "</table>\n",
       "</div>"
      ],
      "text/plain": [
       "   property_type                            state        lat         lon  \\\n",
       "0      apartment                       Nuevo León  25.721081 -100.345581   \n",
       "2          house                          Morelos  23.634501 -102.552788   \n",
       "6      apartment                 Estado de México  19.272040  -99.572013   \n",
       "7          house                  San Luis Potosí  22.138882 -100.996510   \n",
       "8      apartment                 Distrito Federal  19.394558  -99.129707   \n",
       "10         house  Veracruz de Ignacio de la Llave  19.168067  -96.160663   \n",
       "11     apartment                 Distrito Federal  19.326196  -99.140586   \n",
       "\n",
       "    area_m2  price_mxn  \n",
       "0      72.0  1300000.0  \n",
       "2     360.0  5300000.0  \n",
       "6      85.0  1250000.0  \n",
       "7     158.0  2120000.0  \n",
       "8      65.0   758190.0  \n",
       "10    100.0   670000.0  \n",
       "11     74.0  2990000.0  "
      ]
     },
     "execution_count": 71,
     "metadata": {},
     "output_type": "execute_result"
    }
   ],
   "source": [
    "df2.head(7)"
   ]
  },
  {
   "cell_type": "code",
   "execution_count": 72,
   "id": "cee1fbb9",
   "metadata": {},
   "outputs": [
    {
     "data": {
      "text/plain": [
       "0     68421.052632\n",
       "2    278947.368421\n",
       "6     65789.473684\n",
       "7    111578.947368\n",
       "8     39904.736842\n",
       "Name: price_mxn, dtype: float64"
      ]
     },
     "execution_count": 72,
     "metadata": {},
     "output_type": "execute_result"
    }
   ],
   "source": [
    "## to create a price_usd col\n",
    "\n",
    "(df2[\"price_mxn\"] / 19).head() # now we need to round up the rest of the extra figures to just 2 figures"
   ]
  },
  {
   "cell_type": "code",
   "execution_count": 73,
   "id": "5b58dc43",
   "metadata": {},
   "outputs": [
    {
     "data": {
      "text/plain": [
       "0     68421.05\n",
       "2    278947.37\n",
       "6     65789.47\n",
       "7    111578.95\n",
       "8     39904.74\n",
       "Name: price_mxn, dtype: float64"
      ]
     },
     "execution_count": 73,
     "metadata": {},
     "output_type": "execute_result"
    }
   ],
   "source": [
    "(df2[\"price_mxn\"] / 19).round(2).head() # now its .05,37 and so on"
   ]
  },
  {
   "cell_type": "code",
   "execution_count": 74,
   "id": "c6968fb8",
   "metadata": {},
   "outputs": [
    {
     "data": {
      "text/html": [
       "<div>\n",
       "<style scoped>\n",
       "    .dataframe tbody tr th:only-of-type {\n",
       "        vertical-align: middle;\n",
       "    }\n",
       "\n",
       "    .dataframe tbody tr th {\n",
       "        vertical-align: top;\n",
       "    }\n",
       "\n",
       "    .dataframe thead th {\n",
       "        text-align: right;\n",
       "    }\n",
       "</style>\n",
       "<table border=\"1\" class=\"dataframe\">\n",
       "  <thead>\n",
       "    <tr style=\"text-align: right;\">\n",
       "      <th></th>\n",
       "      <th>property_type</th>\n",
       "      <th>state</th>\n",
       "      <th>lat</th>\n",
       "      <th>lon</th>\n",
       "      <th>area_m2</th>\n",
       "      <th>price_mxn</th>\n",
       "      <th>price_usd</th>\n",
       "    </tr>\n",
       "  </thead>\n",
       "  <tbody>\n",
       "    <tr>\n",
       "      <th>0</th>\n",
       "      <td>apartment</td>\n",
       "      <td>Nuevo León</td>\n",
       "      <td>25.721081</td>\n",
       "      <td>-100.345581</td>\n",
       "      <td>72.0</td>\n",
       "      <td>1300000.0</td>\n",
       "      <td>68421.05</td>\n",
       "    </tr>\n",
       "    <tr>\n",
       "      <th>2</th>\n",
       "      <td>house</td>\n",
       "      <td>Morelos</td>\n",
       "      <td>23.634501</td>\n",
       "      <td>-102.552788</td>\n",
       "      <td>360.0</td>\n",
       "      <td>5300000.0</td>\n",
       "      <td>278947.37</td>\n",
       "    </tr>\n",
       "    <tr>\n",
       "      <th>6</th>\n",
       "      <td>apartment</td>\n",
       "      <td>Estado de México</td>\n",
       "      <td>19.272040</td>\n",
       "      <td>-99.572013</td>\n",
       "      <td>85.0</td>\n",
       "      <td>1250000.0</td>\n",
       "      <td>65789.47</td>\n",
       "    </tr>\n",
       "    <tr>\n",
       "      <th>7</th>\n",
       "      <td>house</td>\n",
       "      <td>San Luis Potosí</td>\n",
       "      <td>22.138882</td>\n",
       "      <td>-100.996510</td>\n",
       "      <td>158.0</td>\n",
       "      <td>2120000.0</td>\n",
       "      <td>111578.95</td>\n",
       "    </tr>\n",
       "    <tr>\n",
       "      <th>8</th>\n",
       "      <td>apartment</td>\n",
       "      <td>Distrito Federal</td>\n",
       "      <td>19.394558</td>\n",
       "      <td>-99.129707</td>\n",
       "      <td>65.0</td>\n",
       "      <td>758190.0</td>\n",
       "      <td>39904.74</td>\n",
       "    </tr>\n",
       "  </tbody>\n",
       "</table>\n",
       "</div>"
      ],
      "text/plain": [
       "  property_type             state        lat         lon  area_m2  price_mxn  \\\n",
       "0     apartment        Nuevo León  25.721081 -100.345581     72.0  1300000.0   \n",
       "2         house           Morelos  23.634501 -102.552788    360.0  5300000.0   \n",
       "6     apartment  Estado de México  19.272040  -99.572013     85.0  1250000.0   \n",
       "7         house   San Luis Potosí  22.138882 -100.996510    158.0  2120000.0   \n",
       "8     apartment  Distrito Federal  19.394558  -99.129707     65.0   758190.0   \n",
       "\n",
       "   price_usd  \n",
       "0   68421.05  \n",
       "2  278947.37  \n",
       "6   65789.47  \n",
       "7  111578.95  \n",
       "8   39904.74  "
      ]
     },
     "execution_count": 74,
     "metadata": {},
     "output_type": "execute_result"
    }
   ],
   "source": [
    "df2[\"price_usd\"] = (df2[\"price_mxn\"] / 19).round(2)\n",
    "\n",
    "df2.head() ## we now have price_usd added to the column but we dont need the price_mxn column"
   ]
  },
  {
   "cell_type": "code",
   "execution_count": 75,
   "id": "86404d58",
   "metadata": {},
   "outputs": [
    {
     "data": {
      "text/html": [
       "<div>\n",
       "<style scoped>\n",
       "    .dataframe tbody tr th:only-of-type {\n",
       "        vertical-align: middle;\n",
       "    }\n",
       "\n",
       "    .dataframe tbody tr th {\n",
       "        vertical-align: top;\n",
       "    }\n",
       "\n",
       "    .dataframe thead th {\n",
       "        text-align: right;\n",
       "    }\n",
       "</style>\n",
       "<table border=\"1\" class=\"dataframe\">\n",
       "  <thead>\n",
       "    <tr style=\"text-align: right;\">\n",
       "      <th></th>\n",
       "      <th>property_type</th>\n",
       "      <th>state</th>\n",
       "      <th>lat</th>\n",
       "      <th>lon</th>\n",
       "      <th>area_m2</th>\n",
       "      <th>price_usd</th>\n",
       "    </tr>\n",
       "  </thead>\n",
       "  <tbody>\n",
       "    <tr>\n",
       "      <th>0</th>\n",
       "      <td>apartment</td>\n",
       "      <td>Nuevo León</td>\n",
       "      <td>25.721081</td>\n",
       "      <td>-100.345581</td>\n",
       "      <td>72.0</td>\n",
       "      <td>68421.05</td>\n",
       "    </tr>\n",
       "    <tr>\n",
       "      <th>2</th>\n",
       "      <td>house</td>\n",
       "      <td>Morelos</td>\n",
       "      <td>23.634501</td>\n",
       "      <td>-102.552788</td>\n",
       "      <td>360.0</td>\n",
       "      <td>278947.37</td>\n",
       "    </tr>\n",
       "    <tr>\n",
       "      <th>6</th>\n",
       "      <td>apartment</td>\n",
       "      <td>Estado de México</td>\n",
       "      <td>19.272040</td>\n",
       "      <td>-99.572013</td>\n",
       "      <td>85.0</td>\n",
       "      <td>65789.47</td>\n",
       "    </tr>\n",
       "    <tr>\n",
       "      <th>7</th>\n",
       "      <td>house</td>\n",
       "      <td>San Luis Potosí</td>\n",
       "      <td>22.138882</td>\n",
       "      <td>-100.996510</td>\n",
       "      <td>158.0</td>\n",
       "      <td>111578.95</td>\n",
       "    </tr>\n",
       "    <tr>\n",
       "      <th>8</th>\n",
       "      <td>apartment</td>\n",
       "      <td>Distrito Federal</td>\n",
       "      <td>19.394558</td>\n",
       "      <td>-99.129707</td>\n",
       "      <td>65.0</td>\n",
       "      <td>39904.74</td>\n",
       "    </tr>\n",
       "  </tbody>\n",
       "</table>\n",
       "</div>"
      ],
      "text/plain": [
       "  property_type             state        lat         lon  area_m2  price_usd\n",
       "0     apartment        Nuevo León  25.721081 -100.345581     72.0   68421.05\n",
       "2         house           Morelos  23.634501 -102.552788    360.0  278947.37\n",
       "6     apartment  Estado de México  19.272040  -99.572013     85.0   65789.47\n",
       "7         house   San Luis Potosí  22.138882 -100.996510    158.0  111578.95\n",
       "8     apartment  Distrito Federal  19.394558  -99.129707     65.0   39904.74"
      ]
     },
     "execution_count": 75,
     "metadata": {},
     "output_type": "execute_result"
    }
   ],
   "source": [
    "df2.drop(columns=[\"price_mxn\"], inplace=True) # price_mxn has been dropped.\n",
    "\n",
    "df2.head()"
   ]
  },
  {
   "cell_type": "markdown",
   "id": "c762dedd",
   "metadata": {},
   "source": [
    "## Clean df3"
   ]
  },
  {
   "cell_type": "code",
   "execution_count": 14,
   "id": "a5f6680f",
   "metadata": {},
   "outputs": [],
   "source": [
    "\n",
    "##Great work! We're now on the final DataFrame. Use the same shape, info and head commands to inspect the df3.\n",
    "#Do you see any familiar issues?\n",
    "\n",
    "#You'll notice that we still have NaN values, but there are two new problems:\n",
    "\n",
    "#Instead of separate \"lat\" and \"lon\" columns, there's a single \"lat-lon\" column.\n",
    "#Instead of a \"state\" column, there's a \"place_with_parent_names\" column.\n",
    "#We need the resolve these problems so that df3 has the same columns in the same format as df1 and df2.\n"
   ]
  },
  {
   "cell_type": "code",
   "execution_count": 16,
   "id": "599f83f5",
   "metadata": {},
   "outputs": [],
   "source": [
    "#Task 1.2.5: \n",
    "#Drop rows with NaN values in df3. \n",
    "#Then use the split method to create two new columns from \"lat-lon\" named \"lat\" and \"lon\", respectively."
   ]
  },
  {
   "cell_type": "code",
   "execution_count": 76,
   "id": "cb0114af",
   "metadata": {},
   "outputs": [
    {
     "data": {
      "text/html": [
       "<div>\n",
       "<style scoped>\n",
       "    .dataframe tbody tr th:only-of-type {\n",
       "        vertical-align: middle;\n",
       "    }\n",
       "\n",
       "    .dataframe tbody tr th {\n",
       "        vertical-align: top;\n",
       "    }\n",
       "\n",
       "    .dataframe thead th {\n",
       "        text-align: right;\n",
       "    }\n",
       "</style>\n",
       "<table border=\"1\" class=\"dataframe\">\n",
       "  <thead>\n",
       "    <tr style=\"text-align: right;\">\n",
       "      <th></th>\n",
       "      <th>property_type</th>\n",
       "      <th>place_with_parent_names</th>\n",
       "      <th>lat-lon</th>\n",
       "      <th>area_m2</th>\n",
       "      <th>price_usd</th>\n",
       "    </tr>\n",
       "  </thead>\n",
       "  <tbody>\n",
       "    <tr>\n",
       "      <th>0</th>\n",
       "      <td>apartment</td>\n",
       "      <td>|México|Distrito Federal|Gustavo A. Madero|Acu...</td>\n",
       "      <td>19.52589,-99.151703</td>\n",
       "      <td>71.0</td>\n",
       "      <td>48550.59</td>\n",
       "    </tr>\n",
       "    <tr>\n",
       "      <th>1</th>\n",
       "      <td>house</td>\n",
       "      <td>|México|Estado de México|Toluca|Metepec|</td>\n",
       "      <td>19.2640539,-99.5727534</td>\n",
       "      <td>233.0</td>\n",
       "      <td>168636.73</td>\n",
       "    </tr>\n",
       "    <tr>\n",
       "      <th>2</th>\n",
       "      <td>house</td>\n",
       "      <td>|México|Estado de México|Toluca|Toluca de Lerd...</td>\n",
       "      <td>19.268629,-99.671722</td>\n",
       "      <td>300.0</td>\n",
       "      <td>86932.69</td>\n",
       "    </tr>\n",
       "    <tr>\n",
       "      <th>3</th>\n",
       "      <td>house</td>\n",
       "      <td>|México|Morelos|Temixco|Burgos Bugambilias|</td>\n",
       "      <td>NaN</td>\n",
       "      <td>275.0</td>\n",
       "      <td>263432.41</td>\n",
       "    </tr>\n",
       "    <tr>\n",
       "      <th>4</th>\n",
       "      <td>apartment</td>\n",
       "      <td>|México|Veracruz de Ignacio de la Llave|Veracruz|</td>\n",
       "      <td>19.511938,-96.871956</td>\n",
       "      <td>84.0</td>\n",
       "      <td>68508.67</td>\n",
       "    </tr>\n",
       "  </tbody>\n",
       "</table>\n",
       "</div>"
      ],
      "text/plain": [
       "  property_type                            place_with_parent_names  \\\n",
       "0     apartment  |México|Distrito Federal|Gustavo A. Madero|Acu...   \n",
       "1         house           |México|Estado de México|Toluca|Metepec|   \n",
       "2         house  |México|Estado de México|Toluca|Toluca de Lerd...   \n",
       "3         house        |México|Morelos|Temixco|Burgos Bugambilias|   \n",
       "4     apartment  |México|Veracruz de Ignacio de la Llave|Veracruz|   \n",
       "\n",
       "                  lat-lon  area_m2  price_usd  \n",
       "0     19.52589,-99.151703     71.0   48550.59  \n",
       "1  19.2640539,-99.5727534    233.0  168636.73  \n",
       "2    19.268629,-99.671722    300.0   86932.69  \n",
       "3                     NaN    275.0  263432.41  \n",
       "4    19.511938,-96.871956     84.0   68508.67  "
      ]
     },
     "execution_count": 76,
     "metadata": {},
     "output_type": "execute_result"
    }
   ],
   "source": [
    "df3.head()"
   ]
  },
  {
   "cell_type": "code",
   "execution_count": 77,
   "id": "964914de",
   "metadata": {},
   "outputs": [
    {
     "data": {
      "text/plain": [
       "0       19.52589,-99.151703\n",
       "1    19.2640539,-99.5727534\n",
       "2      19.268629,-99.671722\n",
       "3                       NaN\n",
       "4      19.511938,-96.871956\n",
       "Name: lat-lon, dtype: object"
      ]
     },
     "execution_count": 77,
     "metadata": {},
     "output_type": "execute_result"
    }
   ],
   "source": [
    "# we would need to split the lat-lon column\n",
    "\n",
    "df3[\"lat-lon\"].head()  ## now we want to remove the ,"
   ]
  },
  {
   "cell_type": "code",
   "execution_count": 78,
   "id": "0c9ce651",
   "metadata": {},
   "outputs": [
    {
     "data": {
      "text/plain": [
       "0       [19.52589, -99.151703]\n",
       "1    [19.2640539, -99.5727534]\n",
       "2      [19.268629, -99.671722]\n",
       "3                          NaN\n",
       "4      [19.511938, -96.871956]\n",
       "Name: lat-lon, dtype: object"
      ]
     },
     "execution_count": 78,
     "metadata": {},
     "output_type": "execute_result"
    }
   ],
   "source": [
    "df3[\"lat-lon\"].str.split(\",\").head() # notice the , has been removed and its now a list"
   ]
  },
  {
   "cell_type": "code",
   "execution_count": 79,
   "id": "3df2f0f3",
   "metadata": {},
   "outputs": [
    {
     "data": {
      "text/html": [
       "<div>\n",
       "<style scoped>\n",
       "    .dataframe tbody tr th:only-of-type {\n",
       "        vertical-align: middle;\n",
       "    }\n",
       "\n",
       "    .dataframe tbody tr th {\n",
       "        vertical-align: top;\n",
       "    }\n",
       "\n",
       "    .dataframe thead th {\n",
       "        text-align: right;\n",
       "    }\n",
       "</style>\n",
       "<table border=\"1\" class=\"dataframe\">\n",
       "  <thead>\n",
       "    <tr style=\"text-align: right;\">\n",
       "      <th></th>\n",
       "      <th>0</th>\n",
       "      <th>1</th>\n",
       "    </tr>\n",
       "  </thead>\n",
       "  <tbody>\n",
       "    <tr>\n",
       "      <th>0</th>\n",
       "      <td>19.52589</td>\n",
       "      <td>-99.151703</td>\n",
       "    </tr>\n",
       "    <tr>\n",
       "      <th>1</th>\n",
       "      <td>19.2640539</td>\n",
       "      <td>-99.5727534</td>\n",
       "    </tr>\n",
       "    <tr>\n",
       "      <th>2</th>\n",
       "      <td>19.268629</td>\n",
       "      <td>-99.671722</td>\n",
       "    </tr>\n",
       "    <tr>\n",
       "      <th>3</th>\n",
       "      <td>NaN</td>\n",
       "      <td>NaN</td>\n",
       "    </tr>\n",
       "    <tr>\n",
       "      <th>4</th>\n",
       "      <td>19.511938</td>\n",
       "      <td>-96.871956</td>\n",
       "    </tr>\n",
       "  </tbody>\n",
       "</table>\n",
       "</div>"
      ],
      "text/plain": [
       "            0            1\n",
       "0    19.52589   -99.151703\n",
       "1  19.2640539  -99.5727534\n",
       "2   19.268629   -99.671722\n",
       "3         NaN          NaN\n",
       "4   19.511938   -96.871956"
      ]
     },
     "execution_count": 79,
     "metadata": {},
     "output_type": "execute_result"
    }
   ],
   "source": [
    "df3[\"lat-lon\"].str.split(\",\", expand=True).head()  # seperated now with 0 ans 1"
   ]
  },
  {
   "cell_type": "code",
   "execution_count": 80,
   "id": "710183b1",
   "metadata": {},
   "outputs": [
    {
     "data": {
      "text/html": [
       "<div>\n",
       "<style scoped>\n",
       "    .dataframe tbody tr th:only-of-type {\n",
       "        vertical-align: middle;\n",
       "    }\n",
       "\n",
       "    .dataframe tbody tr th {\n",
       "        vertical-align: top;\n",
       "    }\n",
       "\n",
       "    .dataframe thead th {\n",
       "        text-align: right;\n",
       "    }\n",
       "</style>\n",
       "<table border=\"1\" class=\"dataframe\">\n",
       "  <thead>\n",
       "    <tr style=\"text-align: right;\">\n",
       "      <th></th>\n",
       "      <th>property_type</th>\n",
       "      <th>place_with_parent_names</th>\n",
       "      <th>lat-lon</th>\n",
       "      <th>area_m2</th>\n",
       "      <th>price_usd</th>\n",
       "      <th>lat</th>\n",
       "      <th>lon</th>\n",
       "    </tr>\n",
       "  </thead>\n",
       "  <tbody>\n",
       "    <tr>\n",
       "      <th>0</th>\n",
       "      <td>apartment</td>\n",
       "      <td>|México|Distrito Federal|Gustavo A. Madero|Acu...</td>\n",
       "      <td>19.52589,-99.151703</td>\n",
       "      <td>71.0</td>\n",
       "      <td>48550.59</td>\n",
       "      <td>19.52589</td>\n",
       "      <td>-99.151703</td>\n",
       "    </tr>\n",
       "    <tr>\n",
       "      <th>1</th>\n",
       "      <td>house</td>\n",
       "      <td>|México|Estado de México|Toluca|Metepec|</td>\n",
       "      <td>19.2640539,-99.5727534</td>\n",
       "      <td>233.0</td>\n",
       "      <td>168636.73</td>\n",
       "      <td>19.2640539</td>\n",
       "      <td>-99.5727534</td>\n",
       "    </tr>\n",
       "    <tr>\n",
       "      <th>2</th>\n",
       "      <td>house</td>\n",
       "      <td>|México|Estado de México|Toluca|Toluca de Lerd...</td>\n",
       "      <td>19.268629,-99.671722</td>\n",
       "      <td>300.0</td>\n",
       "      <td>86932.69</td>\n",
       "      <td>19.268629</td>\n",
       "      <td>-99.671722</td>\n",
       "    </tr>\n",
       "    <tr>\n",
       "      <th>3</th>\n",
       "      <td>house</td>\n",
       "      <td>|México|Morelos|Temixco|Burgos Bugambilias|</td>\n",
       "      <td>NaN</td>\n",
       "      <td>275.0</td>\n",
       "      <td>263432.41</td>\n",
       "      <td>NaN</td>\n",
       "      <td>NaN</td>\n",
       "    </tr>\n",
       "    <tr>\n",
       "      <th>4</th>\n",
       "      <td>apartment</td>\n",
       "      <td>|México|Veracruz de Ignacio de la Llave|Veracruz|</td>\n",
       "      <td>19.511938,-96.871956</td>\n",
       "      <td>84.0</td>\n",
       "      <td>68508.67</td>\n",
       "      <td>19.511938</td>\n",
       "      <td>-96.871956</td>\n",
       "    </tr>\n",
       "  </tbody>\n",
       "</table>\n",
       "</div>"
      ],
      "text/plain": [
       "  property_type                            place_with_parent_names  \\\n",
       "0     apartment  |México|Distrito Federal|Gustavo A. Madero|Acu...   \n",
       "1         house           |México|Estado de México|Toluca|Metepec|   \n",
       "2         house  |México|Estado de México|Toluca|Toluca de Lerd...   \n",
       "3         house        |México|Morelos|Temixco|Burgos Bugambilias|   \n",
       "4     apartment  |México|Veracruz de Ignacio de la Llave|Veracruz|   \n",
       "\n",
       "                  lat-lon  area_m2  price_usd         lat          lon  \n",
       "0     19.52589,-99.151703     71.0   48550.59    19.52589   -99.151703  \n",
       "1  19.2640539,-99.5727534    233.0  168636.73  19.2640539  -99.5727534  \n",
       "2    19.268629,-99.671722    300.0   86932.69   19.268629   -99.671722  \n",
       "3                     NaN    275.0  263432.41         NaN          NaN  \n",
       "4    19.511938,-96.871956     84.0   68508.67   19.511938   -96.871956  "
      ]
     },
     "execution_count": 80,
     "metadata": {},
     "output_type": "execute_result"
    }
   ],
   "source": [
    "df3[[\"lat\",\"lon\"]] =df3[\"lat-lon\"].str.split(\",\", expand=True) # now we have them seperated\n",
    "\n",
    "df3.head()"
   ]
  },
  {
   "cell_type": "code",
   "execution_count": 81,
   "id": "d239cb74",
   "metadata": {},
   "outputs": [
    {
     "data": {
      "text/html": [
       "<div>\n",
       "<style scoped>\n",
       "    .dataframe tbody tr th:only-of-type {\n",
       "        vertical-align: middle;\n",
       "    }\n",
       "\n",
       "    .dataframe tbody tr th {\n",
       "        vertical-align: top;\n",
       "    }\n",
       "\n",
       "    .dataframe thead th {\n",
       "        text-align: right;\n",
       "    }\n",
       "</style>\n",
       "<table border=\"1\" class=\"dataframe\">\n",
       "  <thead>\n",
       "    <tr style=\"text-align: right;\">\n",
       "      <th></th>\n",
       "      <th>property_type</th>\n",
       "      <th>place_with_parent_names</th>\n",
       "      <th>lat-lon</th>\n",
       "      <th>area_m2</th>\n",
       "      <th>price_usd</th>\n",
       "      <th>lat</th>\n",
       "      <th>lon</th>\n",
       "    </tr>\n",
       "  </thead>\n",
       "  <tbody>\n",
       "    <tr>\n",
       "      <th>0</th>\n",
       "      <td>apartment</td>\n",
       "      <td>|México|Distrito Federal|Gustavo A. Madero|Acu...</td>\n",
       "      <td>19.52589,-99.151703</td>\n",
       "      <td>71.0</td>\n",
       "      <td>48550.59</td>\n",
       "      <td>19.52589</td>\n",
       "      <td>-99.151703</td>\n",
       "    </tr>\n",
       "    <tr>\n",
       "      <th>1</th>\n",
       "      <td>house</td>\n",
       "      <td>|México|Estado de México|Toluca|Metepec|</td>\n",
       "      <td>19.2640539,-99.5727534</td>\n",
       "      <td>233.0</td>\n",
       "      <td>168636.73</td>\n",
       "      <td>19.2640539</td>\n",
       "      <td>-99.5727534</td>\n",
       "    </tr>\n",
       "    <tr>\n",
       "      <th>2</th>\n",
       "      <td>house</td>\n",
       "      <td>|México|Estado de México|Toluca|Toluca de Lerd...</td>\n",
       "      <td>19.268629,-99.671722</td>\n",
       "      <td>300.0</td>\n",
       "      <td>86932.69</td>\n",
       "      <td>19.268629</td>\n",
       "      <td>-99.671722</td>\n",
       "    </tr>\n",
       "    <tr>\n",
       "      <th>4</th>\n",
       "      <td>apartment</td>\n",
       "      <td>|México|Veracruz de Ignacio de la Llave|Veracruz|</td>\n",
       "      <td>19.511938,-96.871956</td>\n",
       "      <td>84.0</td>\n",
       "      <td>68508.67</td>\n",
       "      <td>19.511938</td>\n",
       "      <td>-96.871956</td>\n",
       "    </tr>\n",
       "    <tr>\n",
       "      <th>5</th>\n",
       "      <td>house</td>\n",
       "      <td>|México|Jalisco|Guadalajara|</td>\n",
       "      <td>20.689157,-103.366728</td>\n",
       "      <td>175.0</td>\n",
       "      <td>102763.00</td>\n",
       "      <td>20.689157</td>\n",
       "      <td>-103.366728</td>\n",
       "    </tr>\n",
       "  </tbody>\n",
       "</table>\n",
       "</div>"
      ],
      "text/plain": [
       "  property_type                            place_with_parent_names  \\\n",
       "0     apartment  |México|Distrito Federal|Gustavo A. Madero|Acu...   \n",
       "1         house           |México|Estado de México|Toluca|Metepec|   \n",
       "2         house  |México|Estado de México|Toluca|Toluca de Lerd...   \n",
       "4     apartment  |México|Veracruz de Ignacio de la Llave|Veracruz|   \n",
       "5         house                       |México|Jalisco|Guadalajara|   \n",
       "\n",
       "                  lat-lon  area_m2  price_usd         lat          lon  \n",
       "0     19.52589,-99.151703     71.0   48550.59    19.52589   -99.151703  \n",
       "1  19.2640539,-99.5727534    233.0  168636.73  19.2640539  -99.5727534  \n",
       "2    19.268629,-99.671722    300.0   86932.69   19.268629   -99.671722  \n",
       "4    19.511938,-96.871956     84.0   68508.67   19.511938   -96.871956  \n",
       "5   20.689157,-103.366728    175.0  102763.00   20.689157  -103.366728  "
      ]
     },
     "execution_count": 81,
     "metadata": {},
     "output_type": "execute_result"
    }
   ],
   "source": [
    "df3.dropna(inplace=True) ## we droped the NaN\n",
    "\n",
    "df3.head()"
   ]
  },
  {
   "cell_type": "code",
   "execution_count": null,
   "id": "d01f4347",
   "metadata": {},
   "outputs": [],
   "source": [
    "Task 1.2.6:\n",
    "Use the split method again, this time to extract the state for every house. \n",
    "(Note that the state name always appears after \"México|\" in each string.) \n",
    "Use this information to create a \"state\" column. Finally, drop the \"place_with_parent_names\" and \"lat-lon\" columns from\n",
    "the DataFrame. ## extracting state"
   ]
  },
  {
   "cell_type": "code",
   "execution_count": 82,
   "id": "46240635",
   "metadata": {},
   "outputs": [
    {
     "data": {
      "text/plain": [
       "0    |México|Distrito Federal|Gustavo A. Madero|Acu...\n",
       "1             |México|Estado de México|Toluca|Metepec|\n",
       "2    |México|Estado de México|Toluca|Toluca de Lerd...\n",
       "4    |México|Veracruz de Ignacio de la Llave|Veracruz|\n",
       "5                         |México|Jalisco|Guadalajara|\n",
       "Name: place_with_parent_names, dtype: object"
      ]
     },
     "execution_count": 82,
     "metadata": {},
     "output_type": "execute_result"
    }
   ],
   "source": [
    "df3[\"place_with_parent_names\"].head() ## we have ti remove |"
   ]
  },
  {
   "cell_type": "code",
   "execution_count": 83,
   "id": "c11e5cdb",
   "metadata": {},
   "outputs": [
    {
     "data": {
      "text/html": [
       "<div>\n",
       "<style scoped>\n",
       "    .dataframe tbody tr th:only-of-type {\n",
       "        vertical-align: middle;\n",
       "    }\n",
       "\n",
       "    .dataframe tbody tr th {\n",
       "        vertical-align: top;\n",
       "    }\n",
       "\n",
       "    .dataframe thead th {\n",
       "        text-align: right;\n",
       "    }\n",
       "</style>\n",
       "<table border=\"1\" class=\"dataframe\">\n",
       "  <thead>\n",
       "    <tr style=\"text-align: right;\">\n",
       "      <th></th>\n",
       "      <th>0</th>\n",
       "      <th>1</th>\n",
       "      <th>2</th>\n",
       "      <th>3</th>\n",
       "      <th>4</th>\n",
       "      <th>5</th>\n",
       "      <th>6</th>\n",
       "    </tr>\n",
       "  </thead>\n",
       "  <tbody>\n",
       "    <tr>\n",
       "      <th>0</th>\n",
       "      <td></td>\n",
       "      <td>México</td>\n",
       "      <td>Distrito Federal</td>\n",
       "      <td>Gustavo A. Madero</td>\n",
       "      <td>Acueducto de Guadalupe</td>\n",
       "      <td></td>\n",
       "      <td>None</td>\n",
       "    </tr>\n",
       "    <tr>\n",
       "      <th>1</th>\n",
       "      <td></td>\n",
       "      <td>México</td>\n",
       "      <td>Estado de México</td>\n",
       "      <td>Toluca</td>\n",
       "      <td>Metepec</td>\n",
       "      <td></td>\n",
       "      <td>None</td>\n",
       "    </tr>\n",
       "    <tr>\n",
       "      <th>2</th>\n",
       "      <td></td>\n",
       "      <td>México</td>\n",
       "      <td>Estado de México</td>\n",
       "      <td>Toluca</td>\n",
       "      <td>Toluca de Lerdo</td>\n",
       "      <td>Ocho Cedros</td>\n",
       "      <td></td>\n",
       "    </tr>\n",
       "    <tr>\n",
       "      <th>4</th>\n",
       "      <td></td>\n",
       "      <td>México</td>\n",
       "      <td>Veracruz de Ignacio de la Llave</td>\n",
       "      <td>Veracruz</td>\n",
       "      <td></td>\n",
       "      <td>None</td>\n",
       "      <td>None</td>\n",
       "    </tr>\n",
       "    <tr>\n",
       "      <th>5</th>\n",
       "      <td></td>\n",
       "      <td>México</td>\n",
       "      <td>Jalisco</td>\n",
       "      <td>Guadalajara</td>\n",
       "      <td></td>\n",
       "      <td>None</td>\n",
       "      <td>None</td>\n",
       "    </tr>\n",
       "  </tbody>\n",
       "</table>\n",
       "</div>"
      ],
      "text/plain": [
       "  0       1                                2                  3  \\\n",
       "0    México                 Distrito Federal  Gustavo A. Madero   \n",
       "1    México                 Estado de México             Toluca   \n",
       "2    México                 Estado de México             Toluca   \n",
       "4    México  Veracruz de Ignacio de la Llave           Veracruz   \n",
       "5    México                          Jalisco        Guadalajara   \n",
       "\n",
       "                        4            5     6  \n",
       "0  Acueducto de Guadalupe               None  \n",
       "1                 Metepec               None  \n",
       "2         Toluca de Lerdo  Ocho Cedros        \n",
       "4                                 None  None  \n",
       "5                                 None  None  "
      ]
     },
     "execution_count": 83,
     "metadata": {},
     "output_type": "execute_result"
    }
   ],
   "source": [
    "df3[\"place_with_parent_names\"].str.split(\"|\", expand=True).head() # now we have removed the |"
   ]
  },
  {
   "cell_type": "code",
   "execution_count": 84,
   "id": "13b00121",
   "metadata": {},
   "outputs": [
    {
     "data": {
      "text/plain": [
       "0                   Distrito Federal\n",
       "1                   Estado de México\n",
       "2                   Estado de México\n",
       "4    Veracruz de Ignacio de la Llave\n",
       "5                            Jalisco\n",
       "Name: 2, dtype: object"
      ]
     },
     "execution_count": 84,
     "metadata": {},
     "output_type": "execute_result"
    }
   ],
   "source": [
    "df3[\"place_with_parent_names\"].str.split(\"|\", expand=True)[2].head() # hear its given us just the content of column 2"
   ]
  },
  {
   "cell_type": "code",
   "execution_count": 85,
   "id": "a263d78b",
   "metadata": {},
   "outputs": [
    {
     "data": {
      "text/html": [
       "<div>\n",
       "<style scoped>\n",
       "    .dataframe tbody tr th:only-of-type {\n",
       "        vertical-align: middle;\n",
       "    }\n",
       "\n",
       "    .dataframe tbody tr th {\n",
       "        vertical-align: top;\n",
       "    }\n",
       "\n",
       "    .dataframe thead th {\n",
       "        text-align: right;\n",
       "    }\n",
       "</style>\n",
       "<table border=\"1\" class=\"dataframe\">\n",
       "  <thead>\n",
       "    <tr style=\"text-align: right;\">\n",
       "      <th></th>\n",
       "      <th>property_type</th>\n",
       "      <th>place_with_parent_names</th>\n",
       "      <th>lat-lon</th>\n",
       "      <th>area_m2</th>\n",
       "      <th>price_usd</th>\n",
       "      <th>lat</th>\n",
       "      <th>lon</th>\n",
       "      <th>state</th>\n",
       "    </tr>\n",
       "  </thead>\n",
       "  <tbody>\n",
       "    <tr>\n",
       "      <th>0</th>\n",
       "      <td>apartment</td>\n",
       "      <td>|México|Distrito Federal|Gustavo A. Madero|Acu...</td>\n",
       "      <td>19.52589,-99.151703</td>\n",
       "      <td>71.0</td>\n",
       "      <td>48550.59</td>\n",
       "      <td>19.52589</td>\n",
       "      <td>-99.151703</td>\n",
       "      <td>Distrito Federal</td>\n",
       "    </tr>\n",
       "    <tr>\n",
       "      <th>1</th>\n",
       "      <td>house</td>\n",
       "      <td>|México|Estado de México|Toluca|Metepec|</td>\n",
       "      <td>19.2640539,-99.5727534</td>\n",
       "      <td>233.0</td>\n",
       "      <td>168636.73</td>\n",
       "      <td>19.2640539</td>\n",
       "      <td>-99.5727534</td>\n",
       "      <td>Estado de México</td>\n",
       "    </tr>\n",
       "    <tr>\n",
       "      <th>2</th>\n",
       "      <td>house</td>\n",
       "      <td>|México|Estado de México|Toluca|Toluca de Lerd...</td>\n",
       "      <td>19.268629,-99.671722</td>\n",
       "      <td>300.0</td>\n",
       "      <td>86932.69</td>\n",
       "      <td>19.268629</td>\n",
       "      <td>-99.671722</td>\n",
       "      <td>Estado de México</td>\n",
       "    </tr>\n",
       "    <tr>\n",
       "      <th>4</th>\n",
       "      <td>apartment</td>\n",
       "      <td>|México|Veracruz de Ignacio de la Llave|Veracruz|</td>\n",
       "      <td>19.511938,-96.871956</td>\n",
       "      <td>84.0</td>\n",
       "      <td>68508.67</td>\n",
       "      <td>19.511938</td>\n",
       "      <td>-96.871956</td>\n",
       "      <td>Veracruz de Ignacio de la Llave</td>\n",
       "    </tr>\n",
       "    <tr>\n",
       "      <th>5</th>\n",
       "      <td>house</td>\n",
       "      <td>|México|Jalisco|Guadalajara|</td>\n",
       "      <td>20.689157,-103.366728</td>\n",
       "      <td>175.0</td>\n",
       "      <td>102763.00</td>\n",
       "      <td>20.689157</td>\n",
       "      <td>-103.366728</td>\n",
       "      <td>Jalisco</td>\n",
       "    </tr>\n",
       "  </tbody>\n",
       "</table>\n",
       "</div>"
      ],
      "text/plain": [
       "  property_type                            place_with_parent_names  \\\n",
       "0     apartment  |México|Distrito Federal|Gustavo A. Madero|Acu...   \n",
       "1         house           |México|Estado de México|Toluca|Metepec|   \n",
       "2         house  |México|Estado de México|Toluca|Toluca de Lerd...   \n",
       "4     apartment  |México|Veracruz de Ignacio de la Llave|Veracruz|   \n",
       "5         house                       |México|Jalisco|Guadalajara|   \n",
       "\n",
       "                  lat-lon  area_m2  price_usd         lat          lon  \\\n",
       "0     19.52589,-99.151703     71.0   48550.59    19.52589   -99.151703   \n",
       "1  19.2640539,-99.5727534    233.0  168636.73  19.2640539  -99.5727534   \n",
       "2    19.268629,-99.671722    300.0   86932.69   19.268629   -99.671722   \n",
       "4    19.511938,-96.871956     84.0   68508.67   19.511938   -96.871956   \n",
       "5   20.689157,-103.366728    175.0  102763.00   20.689157  -103.366728   \n",
       "\n",
       "                             state  \n",
       "0                 Distrito Federal  \n",
       "1                 Estado de México  \n",
       "2                 Estado de México  \n",
       "4  Veracruz de Ignacio de la Llave  \n",
       "5                          Jalisco  "
      ]
     },
     "execution_count": 85,
     "metadata": {},
     "output_type": "execute_result"
    }
   ],
   "source": [
    "df3[\"state\"]= df3[\"place_with_parent_names\"].str.split(\"|\", expand=True)[2] # we now have state on the table that we created\n",
    "# from place_with_parent_names\n",
    "\n",
    "df3.head()"
   ]
  },
  {
   "cell_type": "code",
   "execution_count": 86,
   "id": "e7b8c46f",
   "metadata": {},
   "outputs": [
    {
     "data": {
      "text/html": [
       "<div>\n",
       "<style scoped>\n",
       "    .dataframe tbody tr th:only-of-type {\n",
       "        vertical-align: middle;\n",
       "    }\n",
       "\n",
       "    .dataframe tbody tr th {\n",
       "        vertical-align: top;\n",
       "    }\n",
       "\n",
       "    .dataframe thead th {\n",
       "        text-align: right;\n",
       "    }\n",
       "</style>\n",
       "<table border=\"1\" class=\"dataframe\">\n",
       "  <thead>\n",
       "    <tr style=\"text-align: right;\">\n",
       "      <th></th>\n",
       "      <th>property_type</th>\n",
       "      <th>area_m2</th>\n",
       "      <th>price_usd</th>\n",
       "      <th>lat</th>\n",
       "      <th>lon</th>\n",
       "      <th>state</th>\n",
       "    </tr>\n",
       "  </thead>\n",
       "  <tbody>\n",
       "    <tr>\n",
       "      <th>0</th>\n",
       "      <td>apartment</td>\n",
       "      <td>71.0</td>\n",
       "      <td>48550.59</td>\n",
       "      <td>19.52589</td>\n",
       "      <td>-99.151703</td>\n",
       "      <td>Distrito Federal</td>\n",
       "    </tr>\n",
       "    <tr>\n",
       "      <th>1</th>\n",
       "      <td>house</td>\n",
       "      <td>233.0</td>\n",
       "      <td>168636.73</td>\n",
       "      <td>19.2640539</td>\n",
       "      <td>-99.5727534</td>\n",
       "      <td>Estado de México</td>\n",
       "    </tr>\n",
       "    <tr>\n",
       "      <th>2</th>\n",
       "      <td>house</td>\n",
       "      <td>300.0</td>\n",
       "      <td>86932.69</td>\n",
       "      <td>19.268629</td>\n",
       "      <td>-99.671722</td>\n",
       "      <td>Estado de México</td>\n",
       "    </tr>\n",
       "    <tr>\n",
       "      <th>4</th>\n",
       "      <td>apartment</td>\n",
       "      <td>84.0</td>\n",
       "      <td>68508.67</td>\n",
       "      <td>19.511938</td>\n",
       "      <td>-96.871956</td>\n",
       "      <td>Veracruz de Ignacio de la Llave</td>\n",
       "    </tr>\n",
       "    <tr>\n",
       "      <th>5</th>\n",
       "      <td>house</td>\n",
       "      <td>175.0</td>\n",
       "      <td>102763.00</td>\n",
       "      <td>20.689157</td>\n",
       "      <td>-103.366728</td>\n",
       "      <td>Jalisco</td>\n",
       "    </tr>\n",
       "  </tbody>\n",
       "</table>\n",
       "</div>"
      ],
      "text/plain": [
       "  property_type  area_m2  price_usd         lat          lon  \\\n",
       "0     apartment     71.0   48550.59    19.52589   -99.151703   \n",
       "1         house    233.0  168636.73  19.2640539  -99.5727534   \n",
       "2         house    300.0   86932.69   19.268629   -99.671722   \n",
       "4     apartment     84.0   68508.67   19.511938   -96.871956   \n",
       "5         house    175.0  102763.00   20.689157  -103.366728   \n",
       "\n",
       "                             state  \n",
       "0                 Distrito Federal  \n",
       "1                 Estado de México  \n",
       "2                 Estado de México  \n",
       "4  Veracruz de Ignacio de la Llave  \n",
       "5                          Jalisco  "
      ]
     },
     "execution_count": 86,
     "metadata": {},
     "output_type": "execute_result"
    }
   ],
   "source": [
    "## now we need to drop some tables\n",
    "\n",
    "df3.drop(columns=[\"place_with_parent_names\", \"lat-lon\",],inplace=True)\n",
    "df3.head()"
   ]
  },
  {
   "cell_type": "markdown",
   "id": "52dcd8a3",
   "metadata": {},
   "source": [
    "## Concatenate DataFrames"
   ]
  },
  {
   "cell_type": "code",
   "execution_count": null,
   "id": "ac745a79",
   "metadata": {},
   "outputs": [],
   "source": [
    "\n",
    "Great work! You have three clean DataFrames,\n",
    "and now it's time to combine them into a single DataFrame so that you can conduct your analysis."
   ]
  },
  {
   "cell_type": "code",
   "execution_count": null,
   "id": "01c894ba",
   "metadata": {},
   "outputs": [],
   "source": [
    "Task 1.2.7: \n",
    "Use pd.concat to concatenate df1, df2, df3 as new DataFrame named df.\n",
    "Your new DataFrame should have 1,736 rows and 6 columns:\"property_type\", \"state\", \"lat\", \"lon\", \"area_m2\", \"price_usd\", \n",
    "and \"price_per_m2\"."
   ]
  },
  {
   "cell_type": "code",
   "execution_count": null,
   "id": "24a72c2a",
   "metadata": {},
   "outputs": [],
   "source": [
    "in Pandas\n",
    "when you cincatenate vertically its called axis= o\n",
    "when you concatenate horizontally its called axis= 1"
   ]
  },
  {
   "cell_type": "code",
   "execution_count": 87,
   "id": "2ddbf292",
   "metadata": {},
   "outputs": [
    {
     "name": "stdout",
     "output_type": "stream",
     "text": [
      "(1736, 6)\n"
     ]
    },
    {
     "data": {
      "text/html": [
       "<div>\n",
       "<style scoped>\n",
       "    .dataframe tbody tr th:only-of-type {\n",
       "        vertical-align: middle;\n",
       "    }\n",
       "\n",
       "    .dataframe tbody tr th {\n",
       "        vertical-align: top;\n",
       "    }\n",
       "\n",
       "    .dataframe thead th {\n",
       "        text-align: right;\n",
       "    }\n",
       "</style>\n",
       "<table border=\"1\" class=\"dataframe\">\n",
       "  <thead>\n",
       "    <tr style=\"text-align: right;\">\n",
       "      <th></th>\n",
       "      <th>property_type</th>\n",
       "      <th>state</th>\n",
       "      <th>lat</th>\n",
       "      <th>lon</th>\n",
       "      <th>area_m2</th>\n",
       "      <th>price_usd</th>\n",
       "    </tr>\n",
       "  </thead>\n",
       "  <tbody>\n",
       "    <tr>\n",
       "      <th>0</th>\n",
       "      <td>house</td>\n",
       "      <td>Estado de México</td>\n",
       "      <td>19.560181</td>\n",
       "      <td>-99.233528</td>\n",
       "      <td>150.0</td>\n",
       "      <td>67965.56</td>\n",
       "    </tr>\n",
       "    <tr>\n",
       "      <th>1</th>\n",
       "      <td>house</td>\n",
       "      <td>Nuevo León</td>\n",
       "      <td>25.688436</td>\n",
       "      <td>-100.198807</td>\n",
       "      <td>186.0</td>\n",
       "      <td>63223.78</td>\n",
       "    </tr>\n",
       "    <tr>\n",
       "      <th>2</th>\n",
       "      <td>apartment</td>\n",
       "      <td>Guerrero</td>\n",
       "      <td>16.767704</td>\n",
       "      <td>-99.764383</td>\n",
       "      <td>82.0</td>\n",
       "      <td>84298.37</td>\n",
       "    </tr>\n",
       "    <tr>\n",
       "      <th>3</th>\n",
       "      <td>apartment</td>\n",
       "      <td>Guerrero</td>\n",
       "      <td>16.829782</td>\n",
       "      <td>-99.911012</td>\n",
       "      <td>150.0</td>\n",
       "      <td>94308.80</td>\n",
       "    </tr>\n",
       "    <tr>\n",
       "      <th>5</th>\n",
       "      <td>house</td>\n",
       "      <td>Yucatán</td>\n",
       "      <td>21.052583</td>\n",
       "      <td>-89.538639</td>\n",
       "      <td>205.0</td>\n",
       "      <td>105191.37</td>\n",
       "    </tr>\n",
       "  </tbody>\n",
       "</table>\n",
       "</div>"
      ],
      "text/plain": [
       "  property_type             state        lat         lon  area_m2  price_usd\n",
       "0         house  Estado de México  19.560181  -99.233528    150.0   67965.56\n",
       "1         house        Nuevo León  25.688436 -100.198807    186.0   63223.78\n",
       "2     apartment          Guerrero  16.767704  -99.764383     82.0   84298.37\n",
       "3     apartment          Guerrero  16.829782  -99.911012    150.0   94308.80\n",
       "5         house           Yucatán  21.052583  -89.538639    205.0  105191.37"
      ]
     },
     "execution_count": 87,
     "metadata": {},
     "output_type": "execute_result"
    }
   ],
   "source": [
    "df = pd.concat([df1,df2,df3]) \n",
    "print(df.shape)\n",
    "df.head()"
   ]
  },
  {
   "cell_type": "markdown",
   "id": "a96025e7",
   "metadata": {},
   "source": [
    "## Save df"
   ]
  },
  {
   "cell_type": "code",
   "execution_count": null,
   "id": "7793c62d",
   "metadata": {},
   "outputs": [],
   "source": [
    "\n",
    "The data is clean and in a single DataFrame,\n",
    "and now you need to save it as a CSV file so that you can examine it in your exploratory data analysis."
   ]
  },
  {
   "cell_type": "code",
   "execution_count": null,
   "id": "c5a4ab4c",
   "metadata": {},
   "outputs": [],
   "source": [
    "saving dataframe as csv"
   ]
  },
  {
   "cell_type": "code",
   "execution_count": 93,
   "id": "527be6c7",
   "metadata": {},
   "outputs": [],
   "source": [
    "df.to_csv(\"maxico-real-estate-clean.csv\",index =False)"
   ]
  },
  {
   "cell_type": "code",
   "execution_count": null,
   "id": "78b48c34",
   "metadata": {},
   "outputs": [],
   "source": []
  },
  {
   "cell_type": "markdown",
   "id": "8e969cd1",
   "metadata": {},
   "source": [
    "### Exploratory Data Analysis"
   ]
  },
  {
   "cell_type": "code",
   "execution_count": 23,
   "id": "d9fb38fe",
   "metadata": {},
   "outputs": [
    {
     "name": "stdout",
     "output_type": "stream",
     "text": [
      "Collecting plotly_express==0.4.0\n",
      "  Downloading plotly_express-0.4.0-py2.py3-none-any.whl (2.1 kB)\n",
      "Requirement already satisfied: numpy>=1.11 in c:\\users\\pc\\anaconda3\\lib\\site-packages (from plotly_express==0.4.0) (1.20.3)\n",
      "Requirement already satisfied: scipy>=0.18 in c:\\users\\pc\\anaconda3\\lib\\site-packages (from plotly_express==0.4.0) (1.7.1)\n",
      "Requirement already satisfied: pandas>=0.20.0 in c:\\users\\pc\\anaconda3\\lib\\site-packages (from plotly_express==0.4.0) (1.3.4)\n",
      "Requirement already satisfied: patsy>=0.5 in c:\\users\\pc\\anaconda3\\lib\\site-packages (from plotly_express==0.4.0) (0.5.2)\n",
      "Requirement already satisfied: statsmodels>=0.9.0 in c:\\users\\pc\\anaconda3\\lib\\site-packages (from plotly_express==0.4.0) (0.12.2)\n",
      "Collecting plotly>=4.0.0\n",
      "  Downloading plotly-5.7.0-py2.py3-none-any.whl (28.8 MB)\n",
      "Requirement already satisfied: pytz>=2017.3 in c:\\users\\pc\\anaconda3\\lib\\site-packages (from pandas>=0.20.0->plotly_express==0.4.0) (2021.3)\n",
      "Requirement already satisfied: python-dateutil>=2.7.3 in c:\\users\\pc\\anaconda3\\lib\\site-packages (from pandas>=0.20.0->plotly_express==0.4.0) (2.8.2)\n",
      "Requirement already satisfied: six in c:\\users\\pc\\anaconda3\\lib\\site-packages (from patsy>=0.5->plotly_express==0.4.0) (1.16.0)\n",
      "Collecting tenacity>=6.2.0\n",
      "  Downloading tenacity-8.0.1-py3-none-any.whl (24 kB)\n",
      "Installing collected packages: tenacity, plotly, plotly-express\n",
      "Successfully installed plotly-5.7.0 plotly-express-0.4.0 tenacity-8.0.1\n",
      "Note: you may need to restart the kernel to use updated packages.\n"
     ]
    }
   ],
   "source": [
    "pip install plotly_express==0.4.0\n"
   ]
  },
  {
   "cell_type": "code",
   "execution_count": 22,
   "id": "2f8a5385",
   "metadata": {},
   "outputs": [
    {
     "name": "stdout",
     "output_type": "stream",
     "text": [
      "Requirement already satisfied: notebook>=5.3 in c:\\users\\pc\\anaconda3\\lib\\site-packages (6.4.5)\n",
      "Requirement already satisfied: ipywidgets>=7.2 in c:\\users\\pc\\anaconda3\\lib\\site-packages (7.6.5)\n",
      "Requirement already satisfied: nbformat in c:\\users\\pc\\anaconda3\\lib\\site-packages (from notebook>=5.3) (5.1.3)\n",
      "Requirement already satisfied: pyzmq>=17 in c:\\users\\pc\\anaconda3\\lib\\site-packages (from notebook>=5.3) (22.2.1)\n",
      "Requirement already satisfied: Send2Trash>=1.5.0 in c:\\users\\pc\\anaconda3\\lib\\site-packages (from notebook>=5.3) (1.8.0)\n",
      "Requirement already satisfied: tornado>=6.1 in c:\\users\\pc\\anaconda3\\lib\\site-packages (from notebook>=5.3) (6.1)\n",
      "Requirement already satisfied: argon2-cffi in c:\\users\\pc\\anaconda3\\lib\\site-packages (from notebook>=5.3) (20.1.0)\n",
      "Requirement already satisfied: nbconvert in c:\\users\\pc\\anaconda3\\lib\\site-packages (from notebook>=5.3) (6.1.0)\n",
      "Requirement already satisfied: jupyter-client>=5.3.4 in c:\\users\\pc\\anaconda3\\lib\\site-packages (from notebook>=5.3) (6.1.12)\n",
      "Requirement already satisfied: jinja2 in c:\\users\\pc\\anaconda3\\lib\\site-packages (from notebook>=5.3) (2.11.3)\n",
      "Requirement already satisfied: ipykernel in c:\\users\\pc\\anaconda3\\lib\\site-packages (from notebook>=5.3) (6.4.1)\n",
      "Requirement already satisfied: ipython-genutils in c:\\users\\pc\\anaconda3\\lib\\site-packages (from notebook>=5.3) (0.2.0)\n",
      "Requirement already satisfied: jupyter-core>=4.6.1 in c:\\users\\pc\\anaconda3\\lib\\site-packages (from notebook>=5.3) (4.8.1)\n",
      "Requirement already satisfied: prometheus-client in c:\\users\\pc\\anaconda3\\lib\\site-packages (from notebook>=5.3) (0.11.0)\n",
      "Requirement already satisfied: terminado>=0.8.3 in c:\\users\\pc\\anaconda3\\lib\\site-packages (from notebook>=5.3) (0.9.4)\n",
      "Requirement already satisfied: traitlets>=4.2.1 in c:\\users\\pc\\anaconda3\\lib\\site-packages (from notebook>=5.3) (5.1.0)\n",
      "Requirement already satisfied: jupyterlab-widgets>=1.0.0 in c:\\users\\pc\\anaconda3\\lib\\site-packages (from ipywidgets>=7.2) (1.0.0)\n",
      "Requirement already satisfied: widgetsnbextension~=3.5.0 in c:\\users\\pc\\anaconda3\\lib\\site-packages (from ipywidgets>=7.2) (3.5.1)\n",
      "Requirement already satisfied: ipython>=4.0.0 in c:\\users\\pc\\anaconda3\\lib\\site-packages (from ipywidgets>=7.2) (7.29.0)\n",
      "Requirement already satisfied: debugpy<2.0,>=1.0.0 in c:\\users\\pc\\anaconda3\\lib\\site-packages (from ipykernel->notebook>=5.3) (1.4.1)\n",
      "Requirement already satisfied: matplotlib-inline<0.2.0,>=0.1.0 in c:\\users\\pc\\anaconda3\\lib\\site-packages (from ipykernel->notebook>=5.3) (0.1.2)\n",
      "Requirement already satisfied: colorama in c:\\users\\pc\\anaconda3\\lib\\site-packages (from ipython>=4.0.0->ipywidgets>=7.2) (0.4.4)\n",
      "Requirement already satisfied: backcall in c:\\users\\pc\\anaconda3\\lib\\site-packages (from ipython>=4.0.0->ipywidgets>=7.2) (0.2.0)\n",
      "Requirement already satisfied: pickleshare in c:\\users\\pc\\anaconda3\\lib\\site-packages (from ipython>=4.0.0->ipywidgets>=7.2) (0.7.5)\n",
      "Requirement already satisfied: setuptools>=18.5 in c:\\users\\pc\\anaconda3\\lib\\site-packages (from ipython>=4.0.0->ipywidgets>=7.2) (58.0.4)\n",
      "Requirement already satisfied: decorator in c:\\users\\pc\\anaconda3\\lib\\site-packages (from ipython>=4.0.0->ipywidgets>=7.2) (5.1.0)\n",
      "Requirement already satisfied: prompt-toolkit!=3.0.0,!=3.0.1,<3.1.0,>=2.0.0 in c:\\users\\pc\\anaconda3\\lib\\site-packages (from ipython>=4.0.0->ipywidgets>=7.2) (3.0.20)\n",
      "Requirement already satisfied: pygments in c:\\users\\pc\\anaconda3\\lib\\site-packages (from ipython>=4.0.0->ipywidgets>=7.2) (2.10.0)\n",
      "Requirement already satisfied: jedi>=0.16 in c:\\users\\pc\\anaconda3\\lib\\site-packages (from ipython>=4.0.0->ipywidgets>=7.2) (0.18.0)\n",
      "Requirement already satisfied: parso<0.9.0,>=0.8.0 in c:\\users\\pc\\anaconda3\\lib\\site-packages (from jedi>=0.16->ipython>=4.0.0->ipywidgets>=7.2) (0.8.2)\n",
      "Requirement already satisfied: python-dateutil>=2.1 in c:\\users\\pc\\anaconda3\\lib\\site-packages (from jupyter-client>=5.3.4->notebook>=5.3) (2.8.2)\n",
      "Requirement already satisfied: pywin32>=1.0 in c:\\users\\pc\\anaconda3\\lib\\site-packages (from jupyter-core>=4.6.1->notebook>=5.3) (228)\n",
      "Requirement already satisfied: jsonschema!=2.5.0,>=2.4 in c:\\users\\pc\\anaconda3\\lib\\site-packages (from nbformat->notebook>=5.3) (3.2.0)\n",
      "Requirement already satisfied: six>=1.11.0 in c:\\users\\pc\\anaconda3\\lib\\site-packages (from jsonschema!=2.5.0,>=2.4->nbformat->notebook>=5.3) (1.16.0)\n",
      "Requirement already satisfied: pyrsistent>=0.14.0 in c:\\users\\pc\\anaconda3\\lib\\site-packages (from jsonschema!=2.5.0,>=2.4->nbformat->notebook>=5.3) (0.18.0)\n",
      "Requirement already satisfied: attrs>=17.4.0 in c:\\users\\pc\\anaconda3\\lib\\site-packages (from jsonschema!=2.5.0,>=2.4->nbformat->notebook>=5.3) (21.2.0)\n",
      "Requirement already satisfied: wcwidth in c:\\users\\pc\\anaconda3\\lib\\site-packages (from prompt-toolkit!=3.0.0,!=3.0.1,<3.1.0,>=2.0.0->ipython>=4.0.0->ipywidgets>=7.2) (0.2.5)\n",
      "Requirement already satisfied: pywinpty>=0.5 in c:\\users\\pc\\anaconda3\\lib\\site-packages (from terminado>=0.8.3->notebook>=5.3) (0.5.7)\n",
      "Requirement already satisfied: cffi>=1.0.0 in c:\\users\\pc\\anaconda3\\lib\\site-packages (from argon2-cffi->notebook>=5.3) (1.14.6)\n",
      "Requirement already satisfied: pycparser in c:\\users\\pc\\anaconda3\\lib\\site-packages (from cffi>=1.0.0->argon2-cffi->notebook>=5.3) (2.20)\n",
      "Requirement already satisfied: MarkupSafe>=0.23 in c:\\users\\pc\\anaconda3\\lib\\site-packages (from jinja2->notebook>=5.3) (1.1.1)\n",
      "Requirement already satisfied: entrypoints>=0.2.2 in c:\\users\\pc\\anaconda3\\lib\\site-packages (from nbconvert->notebook>=5.3) (0.3)\n",
      "Requirement already satisfied: mistune<2,>=0.8.1 in c:\\users\\pc\\anaconda3\\lib\\site-packages (from nbconvert->notebook>=5.3) (0.8.4)\n",
      "Requirement already satisfied: testpath in c:\\users\\pc\\anaconda3\\lib\\site-packages (from nbconvert->notebook>=5.3) (0.5.0)\n",
      "Requirement already satisfied: defusedxml in c:\\users\\pc\\anaconda3\\lib\\site-packages (from nbconvert->notebook>=5.3) (0.7.1)\n",
      "Requirement already satisfied: nbclient<0.6.0,>=0.5.0 in c:\\users\\pc\\anaconda3\\lib\\site-packages (from nbconvert->notebook>=5.3) (0.5.3)\n",
      "Requirement already satisfied: jupyterlab-pygments in c:\\users\\pc\\anaconda3\\lib\\site-packages (from nbconvert->notebook>=5.3) (0.1.2)\n",
      "Requirement already satisfied: pandocfilters>=1.4.1 in c:\\users\\pc\\anaconda3\\lib\\site-packages (from nbconvert->notebook>=5.3) (1.4.3)\n",
      "Requirement already satisfied: bleach in c:\\users\\pc\\anaconda3\\lib\\site-packages (from nbconvert->notebook>=5.3) (4.0.0)\n",
      "Requirement already satisfied: async-generator in c:\\users\\pc\\anaconda3\\lib\\site-packages (from nbclient<0.6.0,>=0.5.0->nbconvert->notebook>=5.3) (1.10)\n",
      "Requirement already satisfied: nest-asyncio in c:\\users\\pc\\anaconda3\\lib\\site-packages (from nbclient<0.6.0,>=0.5.0->nbconvert->notebook>=5.3) (1.5.1)\n",
      "Requirement already satisfied: packaging in c:\\users\\pc\\anaconda3\\lib\\site-packages (from bleach->nbconvert->notebook>=5.3) (21.0)\n",
      "Requirement already satisfied: webencodings in c:\\users\\pc\\anaconda3\\lib\\site-packages (from bleach->nbconvert->notebook>=5.3) (0.5.1)\n",
      "Requirement already satisfied: pyparsing>=2.0.2 in c:\\users\\pc\\anaconda3\\lib\\site-packages (from packaging->bleach->nbconvert->notebook>=5.3) (3.0.4)\n"
     ]
    },
    {
     "ename": "ModuleNotFoundError",
     "evalue": "No module named 'plotly'",
     "output_type": "error",
     "traceback": [
      "\u001b[1;31m---------------------------------------------------------------------------\u001b[0m",
      "\u001b[1;31mModuleNotFoundError\u001b[0m                       Traceback (most recent call last)",
      "\u001b[1;32m~\\AppData\\Local\\Temp/ipykernel_1408/2398033733.py\u001b[0m in \u001b[0;36m<module>\u001b[1;34m\u001b[0m\n\u001b[0;32m      2\u001b[0m \u001b[1;32mimport\u001b[0m \u001b[0mpandas\u001b[0m \u001b[1;32mas\u001b[0m \u001b[0mpd\u001b[0m\u001b[1;33m\u001b[0m\u001b[1;33m\u001b[0m\u001b[0m\n\u001b[0;32m      3\u001b[0m \u001b[0mget_ipython\u001b[0m\u001b[1;33m(\u001b[0m\u001b[1;33m)\u001b[0m\u001b[1;33m.\u001b[0m\u001b[0msystem\u001b[0m\u001b[1;33m(\u001b[0m\u001b[1;34m'pip install \"notebook>=5.3\" \"ipywidgets>=7.2\"'\u001b[0m\u001b[1;33m)\u001b[0m\u001b[1;33m\u001b[0m\u001b[1;33m\u001b[0m\u001b[0m\n\u001b[1;32m----> 4\u001b[1;33m \u001b[1;32mimport\u001b[0m \u001b[0mplotly\u001b[0m\u001b[1;33m.\u001b[0m\u001b[0mexpress\u001b[0m \u001b[1;32mas\u001b[0m \u001b[0mpx\u001b[0m \u001b[1;31m# this is for visualizations\u001b[0m\u001b[1;33m\u001b[0m\u001b[1;33m\u001b[0m\u001b[0m\n\u001b[0m\u001b[0;32m      5\u001b[0m \u001b[1;32mfrom\u001b[0m \u001b[0mIPython\u001b[0m\u001b[1;33m.\u001b[0m\u001b[0mdisplay\u001b[0m \u001b[1;32mimport\u001b[0m \u001b[0mVimeoVideo\u001b[0m\u001b[1;33m\u001b[0m\u001b[1;33m\u001b[0m\u001b[0m\n",
      "\u001b[1;31mModuleNotFoundError\u001b[0m: No module named 'plotly'"
     ]
    }
   ],
   "source": [
    "import matplotlib.pyplot as plt # this is for visualizations\n",
    "import pandas as pd\n",
    "\n",
    "import plotly.express as px # this is for visualizations\n",
    "from IPython.display import VimeoVideo"
   ]
  },
  {
   "cell_type": "code",
   "execution_count": null,
   "id": "54dba81f",
   "metadata": {},
   "outputs": [],
   "source": []
  },
  {
   "cell_type": "code",
   "execution_count": null,
   "id": "252c949a",
   "metadata": {},
   "outputs": [],
   "source": [
    "After importing, the next step in many data science projects is exploratory data analysis (EDA), \n",
    "where you get a feel for your data by summarizing its main characteristics using descriptive statistics and data visualization.\n",
    "A good way to plan your EDA is by looking each column and asking yourself questions what it says about your dataset."
   ]
  },
  {
   "cell_type": "markdown",
   "id": "40cf548f",
   "metadata": {},
   "source": [
    "### 1. Import Data"
   ]
  },
  {
   "cell_type": "code",
   "execution_count": null,
   "id": "f60f031c",
   "metadata": {},
   "outputs": [],
   "source": [
    "Task 1.3.1: \n",
    "Read the CSV file that you created in the last notebook (\"../small-data/mexico-real-estate-clean.csv\") into a DataFrame named df\n",
    "Be sure to check that all your columns are the correct data type before you go to the next task."
   ]
  },
  {
   "cell_type": "code",
   "execution_count": 4,
   "id": "a8812853",
   "metadata": {},
   "outputs": [],
   "source": [
    "df = pd.read_csv(\"maxico-real-estate-clean.csv\")"
   ]
  },
  {
   "cell_type": "code",
   "execution_count": 5,
   "id": "adf19d84",
   "metadata": {},
   "outputs": [
    {
     "data": {
      "text/plain": [
       "(1736, 6)"
      ]
     },
     "execution_count": 5,
     "metadata": {},
     "output_type": "execute_result"
    }
   ],
   "source": [
    "df.shape"
   ]
  },
  {
   "cell_type": "code",
   "execution_count": 6,
   "id": "2a9d86db",
   "metadata": {},
   "outputs": [
    {
     "data": {
      "text/html": [
       "<div>\n",
       "<style scoped>\n",
       "    .dataframe tbody tr th:only-of-type {\n",
       "        vertical-align: middle;\n",
       "    }\n",
       "\n",
       "    .dataframe tbody tr th {\n",
       "        vertical-align: top;\n",
       "    }\n",
       "\n",
       "    .dataframe thead th {\n",
       "        text-align: right;\n",
       "    }\n",
       "</style>\n",
       "<table border=\"1\" class=\"dataframe\">\n",
       "  <thead>\n",
       "    <tr style=\"text-align: right;\">\n",
       "      <th></th>\n",
       "      <th>property_type</th>\n",
       "      <th>state</th>\n",
       "      <th>lat</th>\n",
       "      <th>lon</th>\n",
       "      <th>area_m2</th>\n",
       "      <th>price_usd</th>\n",
       "    </tr>\n",
       "  </thead>\n",
       "  <tbody>\n",
       "    <tr>\n",
       "      <th>0</th>\n",
       "      <td>house</td>\n",
       "      <td>Estado de México</td>\n",
       "      <td>19.560181</td>\n",
       "      <td>-99.233528</td>\n",
       "      <td>150.0</td>\n",
       "      <td>67965.56</td>\n",
       "    </tr>\n",
       "    <tr>\n",
       "      <th>1</th>\n",
       "      <td>house</td>\n",
       "      <td>Nuevo León</td>\n",
       "      <td>25.688436</td>\n",
       "      <td>-100.198807</td>\n",
       "      <td>186.0</td>\n",
       "      <td>63223.78</td>\n",
       "    </tr>\n",
       "    <tr>\n",
       "      <th>2</th>\n",
       "      <td>apartment</td>\n",
       "      <td>Guerrero</td>\n",
       "      <td>16.767704</td>\n",
       "      <td>-99.764383</td>\n",
       "      <td>82.0</td>\n",
       "      <td>84298.37</td>\n",
       "    </tr>\n",
       "    <tr>\n",
       "      <th>3</th>\n",
       "      <td>apartment</td>\n",
       "      <td>Guerrero</td>\n",
       "      <td>16.829782</td>\n",
       "      <td>-99.911012</td>\n",
       "      <td>150.0</td>\n",
       "      <td>94308.80</td>\n",
       "    </tr>\n",
       "    <tr>\n",
       "      <th>4</th>\n",
       "      <td>house</td>\n",
       "      <td>Yucatán</td>\n",
       "      <td>21.052583</td>\n",
       "      <td>-89.538639</td>\n",
       "      <td>205.0</td>\n",
       "      <td>105191.37</td>\n",
       "    </tr>\n",
       "  </tbody>\n",
       "</table>\n",
       "</div>"
      ],
      "text/plain": [
       "  property_type             state        lat         lon  area_m2  price_usd\n",
       "0         house  Estado de México  19.560181  -99.233528    150.0   67965.56\n",
       "1         house        Nuevo León  25.688436 -100.198807    186.0   63223.78\n",
       "2     apartment          Guerrero  16.767704  -99.764383     82.0   84298.37\n",
       "3     apartment          Guerrero  16.829782  -99.911012    150.0   94308.80\n",
       "4         house           Yucatán  21.052583  -89.538639    205.0  105191.37"
      ]
     },
     "execution_count": 6,
     "metadata": {},
     "output_type": "execute_result"
    }
   ],
   "source": [
    "df.head()"
   ]
  },
  {
   "cell_type": "code",
   "execution_count": null,
   "id": "f60582c7",
   "metadata": {},
   "outputs": [],
   "source": []
  },
  {
   "cell_type": "markdown",
   "id": "04add2bd",
   "metadata": {},
   "source": [
    "### 2. Location Data: \"lat\" and \"lon\""
   ]
  },
  {
   "cell_type": "code",
   "execution_count": null,
   "id": "4dd01cc1",
   "metadata": {},
   "outputs": [],
   "source": [
    "They say that the most important thing in real estate is location, \n",
    "and we can see where where in Mexico our houses are located by using the \"lat\" and \"lon\" columns. \n",
    "Since latitude and longitude are based on a coordinate system, \n",
    "a good way to visualize them is to create a scatter plot on top of a map. \n",
    "A great tool for this is the scatter_mapbox from the plotly library."
   ]
  },
  {
   "cell_type": "code",
   "execution_count": 21,
   "id": "b691649c",
   "metadata": {},
   "outputs": [
    {
     "ename": "NameError",
     "evalue": "name 'px' is not defined",
     "output_type": "error",
     "traceback": [
      "\u001b[1;31m---------------------------------------------------------------------------\u001b[0m",
      "\u001b[1;31mNameError\u001b[0m                                 Traceback (most recent call last)",
      "\u001b[1;32m~\\AppData\\Local\\Temp/ipykernel_1408/1162765234.py\u001b[0m in \u001b[0;36m<module>\u001b[1;34m\u001b[0m\n\u001b[1;32m----> 1\u001b[1;33m fig = px.scatter_mapbox(\n\u001b[0m\u001b[0;32m      2\u001b[0m     \u001b[0mdf\u001b[0m\u001b[1;33m,\u001b[0m  \u001b[1;31m# Our DataFrame\u001b[0m\u001b[1;33m\u001b[0m\u001b[1;33m\u001b[0m\u001b[0m\n\u001b[0;32m      3\u001b[0m     \u001b[0mlat\u001b[0m\u001b[1;33m=\u001b[0m\u001b[1;34m\"lat\"\u001b[0m\u001b[1;33m,\u001b[0m\u001b[1;33m\u001b[0m\u001b[1;33m\u001b[0m\u001b[0m\n\u001b[0;32m      4\u001b[0m     \u001b[0mlon\u001b[0m\u001b[1;33m=\u001b[0m\u001b[1;34m\"lon\"\u001b[0m\u001b[1;33m,\u001b[0m\u001b[1;33m\u001b[0m\u001b[1;33m\u001b[0m\u001b[0m\n\u001b[0;32m      5\u001b[0m     \u001b[0mcenter\u001b[0m\u001b[1;33m=\u001b[0m\u001b[1;33m{\u001b[0m\u001b[1;34m\"lat\"\u001b[0m\u001b[1;33m:\u001b[0m \u001b[1;36m19.43\u001b[0m\u001b[1;33m,\u001b[0m \u001b[1;34m\"lon\"\u001b[0m\u001b[1;33m:\u001b[0m \u001b[1;33m-\u001b[0m\u001b[1;36m99.13\u001b[0m\u001b[1;33m}\u001b[0m\u001b[1;33m,\u001b[0m  \u001b[1;31m# Map will be centered on Mexico City\u001b[0m\u001b[1;33m\u001b[0m\u001b[1;33m\u001b[0m\u001b[0m\n",
      "\u001b[1;31mNameError\u001b[0m: name 'px' is not defined"
     ]
    }
   ],
   "source": [
    "fig = px.scatter_mapbox(\n",
    "    df,  # Our DataFrame\n",
    "    lat=\"lat\",\n",
    "    lon=\"lon\",\n",
    "    center={\"lat\": 19.43, \"lon\": -99.13},  # Map will be centered on Mexico City\n",
    "    width=600,  # Width of map\n",
    "    height=600,  # Height of map\n",
    "    hover_data=[\"price_usd\"],  # Display price when hovering mouse over house\n",
    ")\n",
    "\n",
    "fig.update_layout(mapbox_style=\"open-street-map\")\n",
    "\n",
    "fig.show()"
   ]
  },
  {
   "cell_type": "code",
   "execution_count": null,
   "id": "da35e77e",
   "metadata": {},
   "outputs": [],
   "source": [
    "Looking at this map, are the houses in our dataset distributed evenly throughout the country,\n",
    "or are there states or regions that are more prevalent? \n",
    "Can you guess where Mexico's biggest cities are based on this distribution?"
   ]
  },
  {
   "cell_type": "markdown",
   "id": "d293741b",
   "metadata": {},
   "source": [
    "### 3. Categorical Data: \"state\""
   ]
  },
  {
   "cell_type": "code",
   "execution_count": null,
   "id": "508122e3",
   "metadata": {},
   "outputs": [],
   "source": [
    "Even though we can get a good idea of which states are most common in our dataset from looking at a map, \n",
    "we can also get the exact count by using the \"state\" column."
   ]
  },
  {
   "cell_type": "code",
   "execution_count": 8,
   "id": "da0ca76b",
   "metadata": {},
   "outputs": [
    {
     "data": {
      "text/plain": [
       "30"
      ]
     },
     "execution_count": 8,
     "metadata": {},
     "output_type": "execute_result"
    }
   ],
   "source": [
    "df[\"state\"].nunique() ## this tell you the number of unique data in state category"
   ]
  },
  {
   "cell_type": "code",
   "execution_count": 9,
   "id": "70b6c112",
   "metadata": {},
   "outputs": [
    {
     "data": {
      "text/plain": [
       "array(['Estado de México', 'Nuevo León', 'Guerrero', 'Yucatán',\n",
       "       'Querétaro', 'Morelos', 'Chiapas', 'Tabasco', 'Distrito Federal',\n",
       "       'Nayarit', 'Puebla', 'Veracruz de Ignacio de la Llave', 'Sinaloa',\n",
       "       'Tamaulipas', 'Jalisco', 'San Luis Potosí', 'Baja California',\n",
       "       'Hidalgo', 'Quintana Roo', 'Sonora', 'Chihuahua',\n",
       "       'Baja California Sur', 'Zacatecas', 'Aguascalientes', 'Guanajuato',\n",
       "       'Durango', 'Tlaxcala', 'Colima', 'Oaxaca', 'Campeche'],\n",
       "      dtype=object)"
      ]
     },
     "execution_count": 9,
     "metadata": {},
     "output_type": "execute_result"
    }
   ],
   "source": [
    "df[\"state\"].unique() ## this tells you name of the states"
   ]
  },
  {
   "cell_type": "code",
   "execution_count": 10,
   "id": "d00b7006",
   "metadata": {},
   "outputs": [
    {
     "data": {
      "text/plain": [
       "Distrito Federal                   303\n",
       "Estado de México                   179\n",
       "Yucatán                            171\n",
       "Morelos                            160\n",
       "Querétaro                          128\n",
       "Veracruz de Ignacio de la Llave    117\n",
       "Puebla                              95\n",
       "Nuevo León                          83\n",
       "Jalisco                             60\n",
       "San Luis Potosí                     55\n",
       "Chiapas                             55\n",
       "Guerrero                            49\n",
       "Tamaulipas                          48\n",
       "Quintana Roo                        38\n",
       "Baja California                     29\n",
       "Sinaloa                             26\n",
       "Chihuahua                           20\n",
       "Tabasco                             20\n",
       "Hidalgo                             17\n",
       "Baja California Sur                 15\n",
       "Sonora                              12\n",
       "Guanajuato                          12\n",
       "Aguascalientes                      10\n",
       "Nayarit                              9\n",
       "Durango                              7\n",
       "Tlaxcala                             6\n",
       "Colima                               5\n",
       "Campeche                             3\n",
       "Zacatecas                            2\n",
       "Oaxaca                               2\n",
       "Name: state, dtype: int64"
      ]
     },
     "execution_count": 10,
     "metadata": {},
     "output_type": "execute_result"
    }
   ],
   "source": [
    "df[\"state\"].value_counts() ## this gives you the states and the number of properties in each state"
   ]
  },
  {
   "cell_type": "code",
   "execution_count": 11,
   "id": "041a3252",
   "metadata": {},
   "outputs": [
    {
     "data": {
      "text/plain": [
       "Distrito Federal    303\n",
       "Estado de México    179\n",
       "Yucatán             171\n",
       "Morelos             160\n",
       "Querétaro           128\n",
       "Name: state, dtype: int64"
      ]
     },
     "execution_count": 11,
     "metadata": {},
     "output_type": "execute_result"
    }
   ],
   "source": [
    "df[\"state\"].value_counts().head() ## this give you the 5 states that has most of the properties"
   ]
  },
  {
   "cell_type": "code",
   "execution_count": 12,
   "id": "ea896ab1",
   "metadata": {},
   "outputs": [
    {
     "data": {
      "text/plain": [
       "Distrito Federal                   303\n",
       "Estado de México                   179\n",
       "Yucatán                            171\n",
       "Morelos                            160\n",
       "Querétaro                          128\n",
       "Veracruz de Ignacio de la Llave    117\n",
       "Puebla                              95\n",
       "Nuevo León                          83\n",
       "Jalisco                             60\n",
       "San Luis Potosí                     55\n",
       "Name: state, dtype: int64"
      ]
     },
     "execution_count": 12,
     "metadata": {},
     "output_type": "execute_result"
    }
   ],
   "source": [
    "df[\"state\"].value_counts().head(10) ## this gives you the 10 states with most of the properties"
   ]
  },
  {
   "cell_type": "markdown",
   "id": "86696c3d",
   "metadata": {},
   "source": [
    "### 4. Numerical Data: \"area_m2\" and \"price_usd\""
   ]
  },
  {
   "cell_type": "code",
   "execution_count": null,
   "id": "40b15c36",
   "metadata": {},
   "outputs": [],
   "source": [
    "We have a sense for where the houses in our dataset are located, \n",
    "but how much do they cost? How big are they? \n",
    "The best way to answer those questions is looking at descriptive statistics."
   ]
  },
  {
   "cell_type": "code",
   "execution_count": 13,
   "id": "02041251",
   "metadata": {},
   "outputs": [
    {
     "data": {
      "text/html": [
       "<div>\n",
       "<style scoped>\n",
       "    .dataframe tbody tr th:only-of-type {\n",
       "        vertical-align: middle;\n",
       "    }\n",
       "\n",
       "    .dataframe tbody tr th {\n",
       "        vertical-align: top;\n",
       "    }\n",
       "\n",
       "    .dataframe thead th {\n",
       "        text-align: right;\n",
       "    }\n",
       "</style>\n",
       "<table border=\"1\" class=\"dataframe\">\n",
       "  <thead>\n",
       "    <tr style=\"text-align: right;\">\n",
       "      <th></th>\n",
       "      <th>area_m2</th>\n",
       "      <th>price_usd</th>\n",
       "    </tr>\n",
       "  </thead>\n",
       "  <tbody>\n",
       "    <tr>\n",
       "      <th>0</th>\n",
       "      <td>150.0</td>\n",
       "      <td>67965.56</td>\n",
       "    </tr>\n",
       "    <tr>\n",
       "      <th>1</th>\n",
       "      <td>186.0</td>\n",
       "      <td>63223.78</td>\n",
       "    </tr>\n",
       "    <tr>\n",
       "      <th>2</th>\n",
       "      <td>82.0</td>\n",
       "      <td>84298.37</td>\n",
       "    </tr>\n",
       "    <tr>\n",
       "      <th>3</th>\n",
       "      <td>150.0</td>\n",
       "      <td>94308.80</td>\n",
       "    </tr>\n",
       "    <tr>\n",
       "      <th>4</th>\n",
       "      <td>205.0</td>\n",
       "      <td>105191.37</td>\n",
       "    </tr>\n",
       "  </tbody>\n",
       "</table>\n",
       "</div>"
      ],
      "text/plain": [
       "   area_m2  price_usd\n",
       "0    150.0   67965.56\n",
       "1    186.0   63223.78\n",
       "2     82.0   84298.37\n",
       "3    150.0   94308.80\n",
       "4    205.0  105191.37"
      ]
     },
     "execution_count": 13,
     "metadata": {},
     "output_type": "execute_result"
    }
   ],
   "source": [
    "df[[\"area_m2\",\"price_usd\"]].head() ## so this gives the first five as usal but not detailed enugh for what we want"
   ]
  },
  {
   "cell_type": "code",
   "execution_count": 14,
   "id": "39adc0c0",
   "metadata": {},
   "outputs": [
    {
     "data": {
      "text/html": [
       "<div>\n",
       "<style scoped>\n",
       "    .dataframe tbody tr th:only-of-type {\n",
       "        vertical-align: middle;\n",
       "    }\n",
       "\n",
       "    .dataframe tbody tr th {\n",
       "        vertical-align: top;\n",
       "    }\n",
       "\n",
       "    .dataframe thead th {\n",
       "        text-align: right;\n",
       "    }\n",
       "</style>\n",
       "<table border=\"1\" class=\"dataframe\">\n",
       "  <thead>\n",
       "    <tr style=\"text-align: right;\">\n",
       "      <th></th>\n",
       "      <th>area_m2</th>\n",
       "      <th>price_usd</th>\n",
       "    </tr>\n",
       "  </thead>\n",
       "  <tbody>\n",
       "    <tr>\n",
       "      <th>count</th>\n",
       "      <td>1736.000000</td>\n",
       "      <td>1736.000000</td>\n",
       "    </tr>\n",
       "    <tr>\n",
       "      <th>mean</th>\n",
       "      <td>170.261521</td>\n",
       "      <td>115331.980766</td>\n",
       "    </tr>\n",
       "    <tr>\n",
       "      <th>std</th>\n",
       "      <td>80.594539</td>\n",
       "      <td>65426.173873</td>\n",
       "    </tr>\n",
       "    <tr>\n",
       "      <th>min</th>\n",
       "      <td>60.000000</td>\n",
       "      <td>33157.890000</td>\n",
       "    </tr>\n",
       "    <tr>\n",
       "      <th>25%</th>\n",
       "      <td>101.750000</td>\n",
       "      <td>65789.470000</td>\n",
       "    </tr>\n",
       "    <tr>\n",
       "      <th>50%</th>\n",
       "      <td>156.000000</td>\n",
       "      <td>99262.130000</td>\n",
       "    </tr>\n",
       "    <tr>\n",
       "      <th>75%</th>\n",
       "      <td>220.000000</td>\n",
       "      <td>150846.665000</td>\n",
       "    </tr>\n",
       "    <tr>\n",
       "      <th>max</th>\n",
       "      <td>385.000000</td>\n",
       "      <td>326733.660000</td>\n",
       "    </tr>\n",
       "  </tbody>\n",
       "</table>\n",
       "</div>"
      ],
      "text/plain": [
       "           area_m2      price_usd\n",
       "count  1736.000000    1736.000000\n",
       "mean    170.261521  115331.980766\n",
       "std      80.594539   65426.173873\n",
       "min      60.000000   33157.890000\n",
       "25%     101.750000   65789.470000\n",
       "50%     156.000000   99262.130000\n",
       "75%     220.000000  150846.665000\n",
       "max     385.000000  326733.660000"
      ]
     },
     "execution_count": 14,
     "metadata": {},
     "output_type": "execute_result"
    }
   ],
   "source": [
    "df[[\"area_m2\",\"price_usd\"]].describe() ## this gives us the count, mean, std, min and max also gives us the % which is called\n",
    "## quartiles"
   ]
  },
  {
   "cell_type": "code",
   "execution_count": null,
   "id": "b58eefa6",
   "metadata": {},
   "outputs": [],
   "source": [
    "Let's start by looking at \"area_m2\". \n",
    "It's interesting that the mean is larger than the median (another name for the 50% quartile). \n",
    "Both of these statistics are supposed to give an idea of the \"typical\" value for the column, \n",
    "so why is there a difference of almost 15 m2 between them? \n",
    "To answer this question, we need to see how house sizes are distributed in our dataset. \n",
    "Let's look at two ways to visualize the distribution: a histogram and a boxplot."
   ]
  },
  {
   "cell_type": "code",
   "execution_count": null,
   "id": "dad9f6eb",
   "metadata": {},
   "outputs": [],
   "source": [
    "Task 1.3.5: \n",
    "Create a histogram of \"area_m2\". Make sure that the x-axis has the label \"Area [sq meters]\", \n",
    "the y-axis has the label \"Frequency\", and the plot has the title \"Distribution of Home Sizes\"."
   ]
  },
  {
   "cell_type": "code",
   "execution_count": 15,
   "id": "0547790d",
   "metadata": {},
   "outputs": [
    {
     "data": {
      "text/plain": [
       "(array([341., 278., 256., 240., 203., 132.,  84.,  91.,  73.,  38.]),\n",
       " array([ 60. ,  92.5, 125. , 157.5, 190. , 222.5, 255. , 287.5, 320. ,\n",
       "        352.5, 385. ]),\n",
       " <BarContainer object of 10 artists>)"
      ]
     },
     "execution_count": 15,
     "metadata": {},
     "output_type": "execute_result"
    },
    {
     "data": {
      "image/png": "[encoded data removed]",
      "text/plain": [
       "<Figure size 432x288 with 1 Axes>"
      ]
     },
     "metadata": {
      "needs_background": "light"
     },
     "output_type": "display_data"
    }
   ],
   "source": [
    "plt.hist(df['area_m2'])"
   ]
  },
  {
   "cell_type": "code",
   "execution_count": 16,
   "id": "109e1657",
   "metadata": {},
   "outputs": [
    {
     "data": {
      "image/png": "[encoded data removed]",
      "text/plain": [
       "<Figure size 432x288 with 1 Axes>"
      ]
     },
     "metadata": {
      "needs_background": "light"
     },
     "output_type": "display_data"
    }
   ],
   "source": [
    "plt.hist(df['area_m2']); ## adding this ; removes all the values ontop the histogram"
   ]
  },
  {
   "cell_type": "code",
   "execution_count": 17,
   "id": "f6dd9638",
   "metadata": {},
   "outputs": [
    {
     "data": {
      "image/png": "[encoded data removed]",
      "text/plain": [
       "<Figure size 432x288 with 1 Axes>"
      ]
     },
     "metadata": {
      "needs_background": "light"
     },
     "output_type": "display_data"
    }
   ],
   "source": [
    "plt.hist(df['area_m2'])\n",
    "plt.xlabel(\"Area [sq meters]\")\n",
    "plt.ylabel(\"Frequency\")\n",
    "plt.title(\"Distribution of Home Sizes\");"
   ]
  },
  {
   "cell_type": "code",
   "execution_count": null,
   "id": "24d63de3",
   "metadata": {},
   "outputs": [],
   "source": [
    "Looking at our histogram, we can see that \"area_m2\" skews left. \n",
    "In other words, there are more houses at the lower end of the distribution (50–200m2) than at the higher end (250–400m2). \n",
    "That explains the difference between the mean and the median."
   ]
  },
  {
   "cell_type": "code",
   "execution_count": null,
   "id": "76b74425",
   "metadata": {},
   "outputs": [],
   "source": [
    "Task 1.3.6: \n",
    "Create a horizontal boxplot of \"area_m2\". \n",
    "Make sure that the x-axis has the label \"Area [sq meters]\" and the plot has the title \"Distribution of Home Sizes\". \n",
    "How is the distribution and its left skew represented differently here than in your histogram?"
   ]
  },
  {
   "cell_type": "code",
   "execution_count": null,
   "id": "1cf44370",
   "metadata": {},
   "outputs": [],
   "source": []
  },
  {
   "cell_type": "code",
   "execution_count": null,
   "id": "e1358e07",
   "metadata": {},
   "outputs": [],
   "source": []
  },
  {
   "cell_type": "code",
   "execution_count": null,
   "id": "b37814cb",
   "metadata": {},
   "outputs": [],
   "source": []
  },
  {
   "cell_type": "code",
   "execution_count": null,
   "id": "82e9015f",
   "metadata": {},
   "outputs": [],
   "source": []
  },
  {
   "cell_type": "code",
   "execution_count": null,
   "id": "333f0a5a",
   "metadata": {},
   "outputs": [],
   "source": []
  },
  {
   "cell_type": "code",
   "execution_count": null,
   "id": "83cdf98f",
   "metadata": {},
   "outputs": [],
   "source": []
  },
  {
   "cell_type": "code",
   "execution_count": null,
   "id": "1d050126",
   "metadata": {},
   "outputs": [],
   "source": []
  },
  {
   "cell_type": "code",
   "execution_count": null,
   "id": "b59efbb9",
   "metadata": {},
   "outputs": [],
   "source": []
  },
  {
   "cell_type": "code",
   "execution_count": null,
   "id": "c5a20d47",
   "metadata": {},
   "outputs": [],
   "source": []
  },
  {
   "cell_type": "code",
   "execution_count": null,
   "id": "5fc0454c",
   "metadata": {},
   "outputs": [],
   "source": []
  },
  {
   "cell_type": "code",
   "execution_count": null,
   "id": "65dc6843",
   "metadata": {},
   "outputs": [],
   "source": []
  },
  {
   "cell_type": "code",
   "execution_count": null,
   "id": "47d50694",
   "metadata": {},
   "outputs": [],
   "source": []
  },
  {
   "cell_type": "code",
   "execution_count": null,
   "id": "fd9ec511",
   "metadata": {},
   "outputs": [],
   "source": []
  },
  {
   "cell_type": "code",
   "execution_count": null,
   "id": "da9015ef",
   "metadata": {},
   "outputs": [],
   "source": []
  },
  {
   "cell_type": "code",
   "execution_count": null,
   "id": "d88de2d3",
   "metadata": {},
   "outputs": [],
   "source": []
  },
  {
   "cell_type": "code",
   "execution_count": null,
   "id": "31e85a09",
   "metadata": {},
   "outputs": [],
   "source": []
  },
  {
   "cell_type": "code",
   "execution_count": null,
   "id": "430021ea",
   "metadata": {},
   "outputs": [],
   "source": []
  },
  {
   "cell_type": "code",
   "execution_count": null,
   "id": "231c019c",
   "metadata": {},
   "outputs": [],
   "source": []
  },
  {
   "cell_type": "code",
   "execution_count": null,
   "id": "6b026194",
   "metadata": {},
   "outputs": [],
   "source": []
  },
  {
   "cell_type": "code",
   "execution_count": null,
   "id": "90914ca1",
   "metadata": {},
   "outputs": [],
   "source": []
  },
  {
   "cell_type": "code",
   "execution_count": null,
   "id": "3e739f90",
   "metadata": {},
   "outputs": [],
   "source": []
  },
  {
   "cell_type": "code",
   "execution_count": null,
   "id": "a68f3255",
   "metadata": {},
   "outputs": [],
   "source": []
  },
  {
   "cell_type": "code",
   "execution_count": null,
   "id": "875a12ec",
   "metadata": {},
   "outputs": [],
   "source": []
  },
  {
   "cell_type": "code",
   "execution_count": null,
   "id": "4c0b9519",
   "metadata": {},
   "outputs": [],
   "source": []
  },
  {
   "cell_type": "code",
   "execution_count": null,
   "id": "4872e773",
   "metadata": {},
   "outputs": [],
   "source": []
  },
  {
   "cell_type": "code",
   "execution_count": null,
   "id": "13806e69",
   "metadata": {},
   "outputs": [],
   "source": []
  },
  {
   "cell_type": "code",
   "execution_count": null,
   "id": "a1e4e008",
   "metadata": {},
   "outputs": [],
   "source": []
  },
  {
   "cell_type": "code",
   "execution_count": null,
   "id": "67ae84cf",
   "metadata": {},
   "outputs": [],
   "source": []
  },
  {
   "cell_type": "code",
   "execution_count": null,
   "id": "00da38c9",
   "metadata": {},
   "outputs": [],
   "source": []
  },
  {
   "cell_type": "code",
   "execution_count": null,
   "id": "726140a8",
   "metadata": {},
   "outputs": [],
   "source": []
  },
  {
   "cell_type": "code",
   "execution_count": null,
   "id": "bd88d1d5",
   "metadata": {},
   "outputs": [],
   "source": []
  },
  {
   "cell_type": "code",
   "execution_count": null,
   "id": "57e1880d",
   "metadata": {},
   "outputs": [],
   "source": []
  },
  {
   "cell_type": "code",
   "execution_count": null,
   "id": "df75d7b1",
   "metadata": {},
   "outputs": [],
   "source": []
  },
  {
   "cell_type": "code",
   "execution_count": null,
   "id": "a46dbf22",
   "metadata": {},
   "outputs": [],
   "source": []
  }
 ],
 "metadata": {
  "kernelspec": {
   "display_name": "Python 3 (ipykernel)",
   "language": "python",
   "name": "python3"
  },
  "language_info": {
   "codemirror_mode": {
    "name": "ipython",
    "version": 3
   },
   "file_extension": ".py",
   "mimetype": "text/x-python",
   "name": "python",
   "nbconvert_exporter": "python",
   "pygments_lexer": "ipython3",
   "version": "3.9.7"
  }
 },
 "nbformat": 4,
 "nbformat_minor": 5
}
